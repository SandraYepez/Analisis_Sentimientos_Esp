{
 "cells": [
  {
   "cell_type": "code",
   "execution_count": 1,
   "metadata": {
    "colab": {
     "base_uri": "https://localhost:8080/"
    },
    "id": "f5N2lqX-ShG1",
    "outputId": "f0e20cb8-c25a-4e73-c98c-ce96a8bb3793"
   },
   "outputs": [
    {
     "name": "stdout",
     "output_type": "stream",
     "text": [
      "Defaulting to user installation because normal site-packages is not writeable\n",
      "Requirement already satisfied: pymongo in c:\\programdata\\anaconda3\\lib\\site-packages (4.5.0)\n",
      "Requirement already satisfied: dnspython<3.0.0,>=1.16.0 in c:\\programdata\\anaconda3\\lib\\site-packages (from pymongo) (2.4.2)\n",
      "Note: you may need to restart the kernel to use updated packages.\n"
     ]
    }
   ],
   "source": [
    "pip install pymongo"
   ]
  },
  {
   "cell_type": "code",
   "execution_count": 2,
   "metadata": {
    "colab": {
     "base_uri": "https://localhost:8080/"
    },
    "id": "I8TLiXUVCCVH",
    "outputId": "495acd3a-de93-42c0-b6b4-8020f0e8139a"
   },
   "outputs": [
    {
     "name": "stdout",
     "output_type": "stream",
     "text": [
      "Defaulting to user installation because normal site-packages is not writeable\n",
      "Collecting vaderSentiment\n",
      "  Downloading vaderSentiment-3.3.2-py2.py3-none-any.whl (125 kB)\n",
      "     ---------------------------------------- 0.0/126.0 kB ? eta -:--:--\n",
      "     -------------------------------------  122.9/126.0 kB 2.4 MB/s eta 0:00:01\n",
      "     -------------------------------------- 126.0/126.0 kB 2.5 MB/s eta 0:00:00\n",
      "Requirement already satisfied: requests in c:\\programdata\\anaconda3\\lib\\site-packages (from vaderSentiment) (2.31.0)\n",
      "Requirement already satisfied: charset-normalizer<4,>=2 in c:\\programdata\\anaconda3\\lib\\site-packages (from requests->vaderSentiment) (2.0.4)\n",
      "Requirement already satisfied: idna<4,>=2.5 in c:\\programdata\\anaconda3\\lib\\site-packages (from requests->vaderSentiment) (3.4)\n",
      "Requirement already satisfied: urllib3<3,>=1.21.1 in c:\\programdata\\anaconda3\\lib\\site-packages (from requests->vaderSentiment) (1.26.16)\n",
      "Requirement already satisfied: certifi>=2017.4.17 in c:\\programdata\\anaconda3\\lib\\site-packages (from requests->vaderSentiment) (2023.7.22)\n",
      "Installing collected packages: vaderSentiment\n",
      "Successfully installed vaderSentiment-3.3.2\n"
     ]
    }
   ],
   "source": [
    "# Biblioteca de VADER\n",
    "!pip install vaderSentiment"
   ]
  },
  {
   "cell_type": "code",
   "execution_count": 3,
   "metadata": {
    "id": "Vxmv183US7bM"
   },
   "outputs": [],
   "source": [
    "import re\n",
    "import pymongo\n",
    "import nltk\n",
    "from textblob import TextBlob\n",
    "import matplotlib.pyplot as plt\n",
    "#from wordcloud import WordCloud, STOPWORDS, ImageColorGenerator\n",
    "#import numpy as np\n",
    "import time\n",
    "import string\n",
    "from pprint import pprint\n",
    "import pandas as pd\n",
    "#import googletrans"
   ]
  },
  {
   "cell_type": "code",
   "execution_count": 4,
   "metadata": {
    "colab": {
     "base_uri": "https://localhost:8080/"
    },
    "id": "pYtNa7L-Tb8Z",
    "outputId": "414db664-a88a-47ac-e9da-3bbd3d516f68"
   },
   "outputs": [
    {
     "name": "stdout",
     "output_type": "stream",
     "text": [
      "Python 3.11.4\n"
     ]
    }
   ],
   "source": [
    "!python --version"
   ]
  },
  {
   "cell_type": "code",
   "execution_count": 5,
   "metadata": {
    "id": "_2ArlBUNUEVJ"
   },
   "outputs": [],
   "source": [
    "from pymongo.mongo_client import MongoClient\n",
    "from pymongo.server_api import ServerApi"
   ]
  },
  {
   "cell_type": "code",
   "execution_count": 6,
   "metadata": {
    "colab": {
     "base_uri": "https://localhost:8080/"
    },
    "id": "IT6Z29GrT53a",
    "outputId": "97c0271d-29cf-4621-b38c-4c3dbe8a0c7e"
   },
   "outputs": [
    {
     "name": "stdout",
     "output_type": "stream",
     "text": [
      "Pinged your deployment. You successfully connected to MongoDB!\n"
     ]
    }
   ],
   "source": [
    "uri = \"mongodb+srv://ponerlaruta\"\n",
    "# Create a new client and connect to the server\n",
    "client = MongoClient(uri, server_api=ServerApi('1'))\n",
    "# Send a ping to confirm a successful connection\n",
    "try:\n",
    "    client.admin.command('ping')\n",
    "    print(\"Pinged your deployment. You successfully connected to MongoDB!\")\n",
    "except Exception as e:\n",
    "    print(e)"
   ]
  },
  {
   "cell_type": "code",
   "execution_count": 7,
   "metadata": {
    "colab": {
     "base_uri": "https://localhost:8080/"
    },
    "id": "KKaUz-ltS57Q",
    "outputId": "fa1723b7-d9e9-4bef-9c31-81c7e985f2ad"
   },
   "outputs": [
    {
     "name": "stdout",
     "output_type": "stream",
     "text": [
      "Base de datos: Cantantes_Colombianos\n",
      "Base de datos: Deportistas_Colombianos\n",
      "Base de datos: Empresas_Colombianas\n",
      "Base de datos: Famosos\n",
      "Base de datos: Futbol_Colombiano\n",
      "Base de datos: Instituciones_del_Estado_Colombiano\n",
      "Base de datos: Medios_Informaticos\n",
      "Base de datos: Periodistas\n",
      "Base de datos: Politicos_Colombianos\n",
      "Base de datos: Universidades_Colombianas\n",
      "Base de datos: admin\n",
      "Base de datos: local\n"
     ]
    }
   ],
   "source": [
    "# Conexión de la conexión  MongoDB\n",
    "client = pymongo.MongoClient('mongodb+srv://ponerlaruta')\n",
    "\n",
    "#Listar las bases de datos\n",
    "\n",
    "databases = client.list_database_names()\n",
    "for database_name in databases:\n",
    "  print(f\"Base de datos: {database_name}\")\n"
   ]
  },
  {
   "cell_type": "code",
   "execution_count": 8,
   "metadata": {
    "id": "v6gfgLUDb5Bq"
   },
   "outputs": [],
   "source": [
    "# Define el nombre de la colección a buscar\n",
    "coleccion_a_buscar = \"tweets_Actividad_R\""
   ]
  },
  {
   "cell_type": "code",
   "execution_count": 9,
   "metadata": {
    "id": "LmKcJmaMlzdb"
   },
   "outputs": [],
   "source": [
    "# Crear una lista\n",
    "data = []"
   ]
  },
  {
   "cell_type": "code",
   "execution_count": null,
   "metadata": {
    "id": "OBF6XbuHcBLj"
   },
   "outputs": [],
   "source": [
    "# Itera sobre las bases de datos\n",
    "for database_name in databases:\n",
    "    # Conecta a la base de datos actual\n",
    "    database = client[database_name]\n",
    "\n",
    "    # Verifica si la colección existe en la base de datos actual\n",
    "    if coleccion_a_buscar in database.list_collection_names():\n",
    "        # Si existe, obtén todos los documentos de la colección\n",
    "        collection = database[coleccion_a_buscar]\n",
    "        tweets = collection.find()\n",
    "\n",
    "        # Itera sobre los tweets en la colección\n",
    "        for tweet in tweets:\n",
    "            # Procesa cada tweet\n",
    "            tweet_text = tweet[\"text\"]\n",
    "            data.append({'nombre_bd': database_name, 'text': tweet_text})\n",
    "    else:\n",
    "        print(f\"La colección '{coleccion_a_buscar}' no existe en la base de datos '{database_name}'\")\n"
   ]
  },
  {
   "cell_type": "code",
   "execution_count": null,
   "metadata": {
    "id": "wWrUHosMh0IM"
   },
   "outputs": [],
   "source": [
    "df = pd.DataFrame(data)\n",
    "df.head()"
   ]
  },
  {
   "cell_type": "code",
   "execution_count": null,
   "metadata": {
    "id": "cyKCf8ZETmSf"
   },
   "outputs": [],
   "source": [
    "# Definir la función para limpiar el texto\n",
    "def limpiar_texto(text):\n",
    "    text = text.lower()\n",
    "    text = re.sub(r\"@[\\w\\-]+\", \"\", text) # Menciones\n",
    "    text = re.sub(r\"#\", \"\", text) # Hashtag\n",
    "    text = re.sub(r\"^((https?://(www\\.)?)|\\www\\.)\\w{3,}\\.[a-z]{2,3}$\", \"\", text) # URL\n",
    "    text = re.sub(r\"https?://\\S+|www\\.\\S+|t\\.co/[A-Za-z0-9]+\", \"\", text) # URL cortas de Twitter\n",
    "    #text = re.sub(r\"[^\\x00-\\x7F]+\", \"\", text) # Emijis\n",
    "    text = re.sub(r\"[\\U0001F600-\\U0001F64F\\U0001F300-\\U0001F5FF\\U0001F700-\\U0001F77F\\U0001F780-\\U0001F7FF\\U0001F800-\\U0001F8FF\\U0001F900-\\U0001F9FF\\U0001FA00-\\U0001FA6F\\U0001FA70-\\U0001FAFF\\U0001FB00-\\U0001FBFF\\U0001FC00-\\U0001FCFF\\U0001FD00-\\U0001FDFF\\U0001FE00-\\U0001FEFF\\U0001FF00-\\U0001FFFF\\U00002600-\\U000026FF\\U00002700-\\U000027BF\\U0001F004-\\U0001F0CF\\U0001F170-\\U0001F251\\U0001F004-\\U0001F0CF\\U0001F300-\\U0001F5FF\\U0001F600-\\U0001F64F\\U0001F650-\\U0001F67F\\U0001F680-\\U0001F6FF\\U0001F700-\\U0001F77F\\U0001F780-\\U0001F7FF\\U0001F800-\\U0001F8FF\\U0001F900-\\U0001F9FF\\U0001FA00-\\U0001FA6F\\U0001FA70-\\U0001FAFF\\U0001FB00-\\U0001FBFF\\U0001FC00-\\U0001FCFF\\U0001FD00-\\U0001FDFF\\U0001FE00-\\U0001FEFF\\U0001FF00-\\U0001FFFF\\U00002600-\\U000026FF\\U00002700-\\U000027BF\\U0001F004-\\U0001F0CF\\U0001F170-\\U0001F251]\", \"\", text)\n",
    "    text = re.sub(r\"\\$\\d+(?:,\\d{3})*(?:\\.\\d+?)\", \"\", text) # Valores de Dinero, tiene en cuenta el símbolo $ y la separación del dígito ya sea por \",\" o \".\"\n",
    "    text = re.sub(r\"((\\d)+/+(\\d+[a-zA-Z]))\", \"\", text) # Número/NúmeroLetra 173/2022c\n",
    "    text = re.sub(r\"\\b\\d+(?:\\.\\d+)?\\b\", \"\", text) # Números enteros y decimales\n",
    "    text = re.sub(r'^rt[\\s]:+', '', text)\n",
    "\n",
    "    #text = re.sub(r\"^rt @([\\w\\-]+):\", \"\", text) # Retweets de Usuarios\n",
    "    return text"
   ]
  },
  {
   "cell_type": "code",
   "execution_count": null,
   "metadata": {
    "id": "-CyOuwXzVUCq"
   },
   "outputs": [],
   "source": [
    "df = pd.DataFrame(data)\n",
    "df.head(20)"
   ]
  },
  {
   "cell_type": "code",
   "execution_count": null,
   "metadata": {
    "id": "8Bzw3N9HWQQA"
   },
   "outputs": [],
   "source": [
    "df['clean_text'] = df['text'].apply(limpiar_texto)"
   ]
  },
  {
   "cell_type": "code",
   "execution_count": null,
   "metadata": {
    "id": "8Ij-xudyXQ0R"
   },
   "outputs": [],
   "source": [
    "df['clean_text']"
   ]
  },
  {
   "cell_type": "code",
   "execution_count": null,
   "metadata": {
    "id": "60-3szDldL9V"
   },
   "outputs": [],
   "source": [
    "df.head(20)"
   ]
  },
  {
   "cell_type": "code",
   "execution_count": null,
   "metadata": {
    "id": "xQ1sLvPwnqOA"
   },
   "outputs": [],
   "source": [
    "from vaderSentiment.vaderSentiment import SentimentIntensityAnalyzer\n",
    "\n",
    "# Léxico en Español\n",
    "analyzer = SentimentIntensityAnalyzer()"
   ]
  },
  {
   "cell_type": "code",
   "execution_count": null,
   "metadata": {
    "id": "r6HbfOrW9biR"
   },
   "outputs": [],
   "source": [
    "df.head()"
   ]
  },
  {
   "cell_type": "code",
   "execution_count": null,
   "metadata": {
    "id": "ECGgCHGf0X_g"
   },
   "outputs": [],
   "source": [
    "# Función para Calcular el sentimiento\n",
    "def get_polarity(text):\n",
    "  sentiment = analyzer.polarity_scores(text)\n",
    "\n",
    "#Determina la polaridad del sentimiento\n",
    "  if sentiment['compound'] > 0:\n",
    "    return 'Positivo'\n",
    "  elif sentiment['compound'] < 0:\n",
    "    return 'Negativo'\n",
    "  else:\n",
    "    return 'Neutral'\n"
   ]
  },
  {
   "cell_type": "code",
   "execution_count": null,
   "metadata": {
    "id": "KZ1dCLoQMyIX"
   },
   "outputs": [],
   "source": [
    "df['sentimiento'] = df['clean_text'].apply(get_polarity)"
   ]
  },
  {
   "cell_type": "code",
   "execution_count": null,
   "metadata": {
    "id": "SnWRa1FLMiDj"
   },
   "outputs": [],
   "source": [
    "df"
   ]
  },
  {
   "cell_type": "code",
   "execution_count": null,
   "metadata": {
    "id": "xmyFF9SAotaI"
   },
   "outputs": [],
   "source": [
    "df.head(10)"
   ]
  },
  {
   "cell_type": "code",
   "execution_count": null,
   "metadata": {
    "id": "BigcCfTyvXRs"
   },
   "outputs": [],
   "source": [
    "# Tabla que muestra la frecuencia de cada sentimiento para cada valor único de nombre_bd\n",
    "tabla = pd.crosstab(df['nombre_bd'], df['sentimiento'])\n",
    "print(tabla)"
   ]
  },
  {
   "cell_type": "code",
   "execution_count": null,
   "metadata": {
    "id": "-sahZrS4vzjd"
   },
   "outputs": [],
   "source": [
    "# Gráfico de barras apiladas para visualizar la distribución\n",
    "tabla.plot(kind='bar', stacked = True, figsize=(10, 6))\n",
    "plt.title('Distribución de Sentimientos por Base de Datos')\n",
    "plt.xlabel('Nombre de la Base de Datos')\n",
    "plt.ylabel('Frecuencia')\n",
    "plt.legend(title='Sentimiento', loc='upper right')\n",
    "plt.show()"
   ]
  },
  {
   "cell_type": "code",
   "execution_count": null,
   "metadata": {
    "id": "r4g1ALA5w58z"
   },
   "outputs": [],
   "source": [
    "# Gráfico de barras agrupadas para visualizar la distribución\n",
    "tabla.plot(kind='bar', figsize=(10, 6))\n",
    "plt.title('Distribución de Sentimientos por Base de Datos')\n",
    "plt.xlabel('Nombre de la Base de Datos')\n",
    "plt.ylabel('Frecuencia')\n",
    "plt.legend(title='Sentimiento', loc='upper right')\n",
    "plt.show()"
   ]
  },
  {
   "cell_type": "code",
   "execution_count": null,
   "metadata": {
    "id": "dTuI9VKpm1RA"
   },
   "outputs": [],
   "source": [
    "# Agrupo los Tweets por el nombre de la Base de Datos\n",
    "grupos = df.groupby('nombre_bd')\n",
    "\n",
    "# Almaceno en un diccionario los DataFrames separados por el nombre de la base de datos\n",
    "tweets_separados = {}\n",
    "\n",
    "# Creo un Dataframe por cada base de datos\n",
    "\n",
    "for nombre_db, grupo in grupos:\n",
    "  tweets_separados[nombre_db] = grupo.copy()\n",
    "\n"
   ]
  },
  {
   "cell_type": "code",
   "execution_count": null,
   "metadata": {
    "id": "NCbvxEKsn4Ii"
   },
   "outputs": [],
   "source": [
    "cantantes = tweets_separados['Cantantes_Colombianos']\n",
    "deportistas = tweets_separados['Deportistas_Colombianos']\n",
    "empresas = tweets_separados['Empresas_Colombianas']\n",
    "famosos = tweets_separados['Famosos']\n",
    "futbol = tweets_separados['Futbol_Colombiano']\n",
    "instituciones = tweets_separados['Instituciones_del_Estado_Colombiano']\n",
    "medios = tweets_separados['Medios_Informaticos']\n",
    "periodistas = tweets_separados['Periodistas']\n",
    "politicos = tweets_separados['Politicos_Colombianos']\n",
    "universidades = tweets_separados['Universidades_Colombianas']"
   ]
  },
  {
   "cell_type": "code",
   "execution_count": null,
   "metadata": {
    "id": "EdNBeoDTCmYH"
   },
   "outputs": [],
   "source": [
    "# Contar el número de tweets positivos\n",
    "tweets_positivos = df[df['sentimiento'] == 'Positivo']\n",
    "\n",
    "# Calcular el porcentaje de tweets positivos\n",
    "porcentaje_positivos = (len(tweets_positivos) / len(df)) * 100\n",
    "\n",
    "print(f\"Porcentaje de tweets positivos: {porcentaje_positivos:.2f}%\")"
   ]
  },
  {
   "cell_type": "code",
   "execution_count": null,
   "metadata": {
    "id": "j4zzqLIOCuGE"
   },
   "outputs": [],
   "source": [
    "# Contar el número de tweets negativos\n",
    "tweets_negativos = df[df['sentimiento'] == 'Negativo']\n",
    "\n",
    "# Calcular el porcentaje de tweets negativos\n",
    "porcentaje_negativos = (len(tweets_negativos) / len(df)) * 100\n",
    "\n",
    "print(f\"Porcentaje de tweets negativos: {porcentaje_negativos:.2f}%\")"
   ]
  },
  {
   "cell_type": "code",
   "execution_count": null,
   "metadata": {
    "id": "rTnCx38ZBYJs"
   },
   "outputs": [],
   "source": [
    "#Exportar el DataFrame a Excel\n",
    "df.to_excel('resultados_tweets_VADER.xlsx', index= False)"
   ]
  }
 ],
 "metadata": {
  "colab": {
   "provenance": []
  },
  "kernelspec": {
   "display_name": "Python 3 (ipykernel)",
   "language": "python",
   "name": "python3"
  },
  "language_info": {
   "codemirror_mode": {
    "name": "ipython",
    "version": 3
   },
   "file_extension": ".py",
   "mimetype": "text/x-python",
   "name": "python",
   "nbconvert_exporter": "python",
   "pygments_lexer": "ipython3",
   "version": "3.11.4"
  }
 },
 "nbformat": 4,
 "nbformat_minor": 1
}
