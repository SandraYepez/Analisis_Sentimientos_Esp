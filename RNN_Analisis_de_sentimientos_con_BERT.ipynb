{
  "nbformat": 4,
  "nbformat_minor": 0,
  "metadata": {
    "colab": {
      "provenance": [],
      "gpuType": "T4"
    },
    "kernelspec": {
      "name": "python3",
      "display_name": "Python 3"
    },
    "accelerator": "GPU",
    "widgets": {
      "application/vnd.jupyter.widget-state+json": {
        "6c1da81dac55477ea68cd6ed3e0ecea7": {
          "model_module": "@jupyter-widgets/controls",
          "model_name": "HBoxModel",
          "model_module_version": "1.5.0",
          "state": {
            "_dom_classes": [],
            "_model_module": "@jupyter-widgets/controls",
            "_model_module_version": "1.5.0",
            "_model_name": "HBoxModel",
            "_view_count": null,
            "_view_module": "@jupyter-widgets/controls",
            "_view_module_version": "1.5.0",
            "_view_name": "HBoxView",
            "box_style": "",
            "children": [
              "IPY_MODEL_a8a17a97260f4232afe284e20a4c45ab",
              "IPY_MODEL_d2a9eefd13254d33bc63fbf89a133e02",
              "IPY_MODEL_11d2c146a01840a7a5ee3addf085d166"
            ],
            "layout": "IPY_MODEL_4d7d1e0bec1d480da84cb192f041662d"
          }
        },
        "a8a17a97260f4232afe284e20a4c45ab": {
          "model_module": "@jupyter-widgets/controls",
          "model_name": "HTMLModel",
          "model_module_version": "1.5.0",
          "state": {
            "_dom_classes": [],
            "_model_module": "@jupyter-widgets/controls",
            "_model_module_version": "1.5.0",
            "_model_name": "HTMLModel",
            "_view_count": null,
            "_view_module": "@jupyter-widgets/controls",
            "_view_module_version": "1.5.0",
            "_view_name": "HTMLView",
            "description": "",
            "description_tooltip": null,
            "layout": "IPY_MODEL_7b3ac88d608b49f4a469a5aecf015751",
            "placeholder": "​",
            "style": "IPY_MODEL_2301ca7c41de412d92edc81046ca1918",
            "value": "Downloading (…)solve/main/vocab.txt: 100%"
          }
        },
        "d2a9eefd13254d33bc63fbf89a133e02": {
          "model_module": "@jupyter-widgets/controls",
          "model_name": "FloatProgressModel",
          "model_module_version": "1.5.0",
          "state": {
            "_dom_classes": [],
            "_model_module": "@jupyter-widgets/controls",
            "_model_module_version": "1.5.0",
            "_model_name": "FloatProgressModel",
            "_view_count": null,
            "_view_module": "@jupyter-widgets/controls",
            "_view_module_version": "1.5.0",
            "_view_name": "ProgressView",
            "bar_style": "success",
            "description": "",
            "description_tooltip": null,
            "layout": "IPY_MODEL_2d69fe6a75dd4606a069ee9150d66124",
            "max": 241796,
            "min": 0,
            "orientation": "horizontal",
            "style": "IPY_MODEL_02db516e496a4389945dd7477af68e7f",
            "value": 241796
          }
        },
        "11d2c146a01840a7a5ee3addf085d166": {
          "model_module": "@jupyter-widgets/controls",
          "model_name": "HTMLModel",
          "model_module_version": "1.5.0",
          "state": {
            "_dom_classes": [],
            "_model_module": "@jupyter-widgets/controls",
            "_model_module_version": "1.5.0",
            "_model_name": "HTMLModel",
            "_view_count": null,
            "_view_module": "@jupyter-widgets/controls",
            "_view_module_version": "1.5.0",
            "_view_name": "HTMLView",
            "description": "",
            "description_tooltip": null,
            "layout": "IPY_MODEL_4e56959d68df4566bd64552c006fbdf4",
            "placeholder": "​",
            "style": "IPY_MODEL_836dafc38e604e409f8356bf811414e0",
            "value": " 242k/242k [00:00&lt;00:00, 4.80MB/s]"
          }
        },
        "4d7d1e0bec1d480da84cb192f041662d": {
          "model_module": "@jupyter-widgets/base",
          "model_name": "LayoutModel",
          "model_module_version": "1.2.0",
          "state": {
            "_model_module": "@jupyter-widgets/base",
            "_model_module_version": "1.2.0",
            "_model_name": "LayoutModel",
            "_view_count": null,
            "_view_module": "@jupyter-widgets/base",
            "_view_module_version": "1.2.0",
            "_view_name": "LayoutView",
            "align_content": null,
            "align_items": null,
            "align_self": null,
            "border": null,
            "bottom": null,
            "display": null,
            "flex": null,
            "flex_flow": null,
            "grid_area": null,
            "grid_auto_columns": null,
            "grid_auto_flow": null,
            "grid_auto_rows": null,
            "grid_column": null,
            "grid_gap": null,
            "grid_row": null,
            "grid_template_areas": null,
            "grid_template_columns": null,
            "grid_template_rows": null,
            "height": null,
            "justify_content": null,
            "justify_items": null,
            "left": null,
            "margin": null,
            "max_height": null,
            "max_width": null,
            "min_height": null,
            "min_width": null,
            "object_fit": null,
            "object_position": null,
            "order": null,
            "overflow": null,
            "overflow_x": null,
            "overflow_y": null,
            "padding": null,
            "right": null,
            "top": null,
            "visibility": null,
            "width": null
          }
        },
        "7b3ac88d608b49f4a469a5aecf015751": {
          "model_module": "@jupyter-widgets/base",
          "model_name": "LayoutModel",
          "model_module_version": "1.2.0",
          "state": {
            "_model_module": "@jupyter-widgets/base",
            "_model_module_version": "1.2.0",
            "_model_name": "LayoutModel",
            "_view_count": null,
            "_view_module": "@jupyter-widgets/base",
            "_view_module_version": "1.2.0",
            "_view_name": "LayoutView",
            "align_content": null,
            "align_items": null,
            "align_self": null,
            "border": null,
            "bottom": null,
            "display": null,
            "flex": null,
            "flex_flow": null,
            "grid_area": null,
            "grid_auto_columns": null,
            "grid_auto_flow": null,
            "grid_auto_rows": null,
            "grid_column": null,
            "grid_gap": null,
            "grid_row": null,
            "grid_template_areas": null,
            "grid_template_columns": null,
            "grid_template_rows": null,
            "height": null,
            "justify_content": null,
            "justify_items": null,
            "left": null,
            "margin": null,
            "max_height": null,
            "max_width": null,
            "min_height": null,
            "min_width": null,
            "object_fit": null,
            "object_position": null,
            "order": null,
            "overflow": null,
            "overflow_x": null,
            "overflow_y": null,
            "padding": null,
            "right": null,
            "top": null,
            "visibility": null,
            "width": null
          }
        },
        "2301ca7c41de412d92edc81046ca1918": {
          "model_module": "@jupyter-widgets/controls",
          "model_name": "DescriptionStyleModel",
          "model_module_version": "1.5.0",
          "state": {
            "_model_module": "@jupyter-widgets/controls",
            "_model_module_version": "1.5.0",
            "_model_name": "DescriptionStyleModel",
            "_view_count": null,
            "_view_module": "@jupyter-widgets/base",
            "_view_module_version": "1.2.0",
            "_view_name": "StyleView",
            "description_width": ""
          }
        },
        "2d69fe6a75dd4606a069ee9150d66124": {
          "model_module": "@jupyter-widgets/base",
          "model_name": "LayoutModel",
          "model_module_version": "1.2.0",
          "state": {
            "_model_module": "@jupyter-widgets/base",
            "_model_module_version": "1.2.0",
            "_model_name": "LayoutModel",
            "_view_count": null,
            "_view_module": "@jupyter-widgets/base",
            "_view_module_version": "1.2.0",
            "_view_name": "LayoutView",
            "align_content": null,
            "align_items": null,
            "align_self": null,
            "border": null,
            "bottom": null,
            "display": null,
            "flex": null,
            "flex_flow": null,
            "grid_area": null,
            "grid_auto_columns": null,
            "grid_auto_flow": null,
            "grid_auto_rows": null,
            "grid_column": null,
            "grid_gap": null,
            "grid_row": null,
            "grid_template_areas": null,
            "grid_template_columns": null,
            "grid_template_rows": null,
            "height": null,
            "justify_content": null,
            "justify_items": null,
            "left": null,
            "margin": null,
            "max_height": null,
            "max_width": null,
            "min_height": null,
            "min_width": null,
            "object_fit": null,
            "object_position": null,
            "order": null,
            "overflow": null,
            "overflow_x": null,
            "overflow_y": null,
            "padding": null,
            "right": null,
            "top": null,
            "visibility": null,
            "width": null
          }
        },
        "02db516e496a4389945dd7477af68e7f": {
          "model_module": "@jupyter-widgets/controls",
          "model_name": "ProgressStyleModel",
          "model_module_version": "1.5.0",
          "state": {
            "_model_module": "@jupyter-widgets/controls",
            "_model_module_version": "1.5.0",
            "_model_name": "ProgressStyleModel",
            "_view_count": null,
            "_view_module": "@jupyter-widgets/base",
            "_view_module_version": "1.2.0",
            "_view_name": "StyleView",
            "bar_color": null,
            "description_width": ""
          }
        },
        "4e56959d68df4566bd64552c006fbdf4": {
          "model_module": "@jupyter-widgets/base",
          "model_name": "LayoutModel",
          "model_module_version": "1.2.0",
          "state": {
            "_model_module": "@jupyter-widgets/base",
            "_model_module_version": "1.2.0",
            "_model_name": "LayoutModel",
            "_view_count": null,
            "_view_module": "@jupyter-widgets/base",
            "_view_module_version": "1.2.0",
            "_view_name": "LayoutView",
            "align_content": null,
            "align_items": null,
            "align_self": null,
            "border": null,
            "bottom": null,
            "display": null,
            "flex": null,
            "flex_flow": null,
            "grid_area": null,
            "grid_auto_columns": null,
            "grid_auto_flow": null,
            "grid_auto_rows": null,
            "grid_column": null,
            "grid_gap": null,
            "grid_row": null,
            "grid_template_areas": null,
            "grid_template_columns": null,
            "grid_template_rows": null,
            "height": null,
            "justify_content": null,
            "justify_items": null,
            "left": null,
            "margin": null,
            "max_height": null,
            "max_width": null,
            "min_height": null,
            "min_width": null,
            "object_fit": null,
            "object_position": null,
            "order": null,
            "overflow": null,
            "overflow_x": null,
            "overflow_y": null,
            "padding": null,
            "right": null,
            "top": null,
            "visibility": null,
            "width": null
          }
        },
        "836dafc38e604e409f8356bf811414e0": {
          "model_module": "@jupyter-widgets/controls",
          "model_name": "DescriptionStyleModel",
          "model_module_version": "1.5.0",
          "state": {
            "_model_module": "@jupyter-widgets/controls",
            "_model_module_version": "1.5.0",
            "_model_name": "DescriptionStyleModel",
            "_view_count": null,
            "_view_module": "@jupyter-widgets/base",
            "_view_module_version": "1.2.0",
            "_view_name": "StyleView",
            "description_width": ""
          }
        },
        "eadda3d8ff574567b1b4357727844be0": {
          "model_module": "@jupyter-widgets/controls",
          "model_name": "HBoxModel",
          "model_module_version": "1.5.0",
          "state": {
            "_dom_classes": [],
            "_model_module": "@jupyter-widgets/controls",
            "_model_module_version": "1.5.0",
            "_model_name": "HBoxModel",
            "_view_count": null,
            "_view_module": "@jupyter-widgets/controls",
            "_view_module_version": "1.5.0",
            "_view_name": "HBoxView",
            "box_style": "",
            "children": [
              "IPY_MODEL_b6c289317bc541e7a54d051b8efca463",
              "IPY_MODEL_de1277d42f1140f6956c8d2ac266d00d",
              "IPY_MODEL_472c72fa39594c9dbb2e2476bed90504"
            ],
            "layout": "IPY_MODEL_017ae60768d04aca96f91bffe7435229"
          }
        },
        "b6c289317bc541e7a54d051b8efca463": {
          "model_module": "@jupyter-widgets/controls",
          "model_name": "HTMLModel",
          "model_module_version": "1.5.0",
          "state": {
            "_dom_classes": [],
            "_model_module": "@jupyter-widgets/controls",
            "_model_module_version": "1.5.0",
            "_model_name": "HTMLModel",
            "_view_count": null,
            "_view_module": "@jupyter-widgets/controls",
            "_view_module_version": "1.5.0",
            "_view_name": "HTMLView",
            "description": "",
            "description_tooltip": null,
            "layout": "IPY_MODEL_a717e201cc5244b28871a2ef1b77dadd",
            "placeholder": "​",
            "style": "IPY_MODEL_d64c74780e2540868124fb291e0020f6",
            "value": "Downloading (…)cial_tokens_map.json: 100%"
          }
        },
        "de1277d42f1140f6956c8d2ac266d00d": {
          "model_module": "@jupyter-widgets/controls",
          "model_name": "FloatProgressModel",
          "model_module_version": "1.5.0",
          "state": {
            "_dom_classes": [],
            "_model_module": "@jupyter-widgets/controls",
            "_model_module_version": "1.5.0",
            "_model_name": "FloatProgressModel",
            "_view_count": null,
            "_view_module": "@jupyter-widgets/controls",
            "_view_module_version": "1.5.0",
            "_view_name": "ProgressView",
            "bar_style": "success",
            "description": "",
            "description_tooltip": null,
            "layout": "IPY_MODEL_fb446b71ddfc489e96a25261337ca850",
            "max": 134,
            "min": 0,
            "orientation": "horizontal",
            "style": "IPY_MODEL_a596d4eeb4b742089dd099d56bcae556",
            "value": 134
          }
        },
        "472c72fa39594c9dbb2e2476bed90504": {
          "model_module": "@jupyter-widgets/controls",
          "model_name": "HTMLModel",
          "model_module_version": "1.5.0",
          "state": {
            "_dom_classes": [],
            "_model_module": "@jupyter-widgets/controls",
            "_model_module_version": "1.5.0",
            "_model_name": "HTMLModel",
            "_view_count": null,
            "_view_module": "@jupyter-widgets/controls",
            "_view_module_version": "1.5.0",
            "_view_name": "HTMLView",
            "description": "",
            "description_tooltip": null,
            "layout": "IPY_MODEL_89c550e0c7df49f99a89e73e61f5fe72",
            "placeholder": "​",
            "style": "IPY_MODEL_ba30cea3344846c4931680da82a7f921",
            "value": " 134/134 [00:00&lt;00:00, 3.80kB/s]"
          }
        },
        "017ae60768d04aca96f91bffe7435229": {
          "model_module": "@jupyter-widgets/base",
          "model_name": "LayoutModel",
          "model_module_version": "1.2.0",
          "state": {
            "_model_module": "@jupyter-widgets/base",
            "_model_module_version": "1.2.0",
            "_model_name": "LayoutModel",
            "_view_count": null,
            "_view_module": "@jupyter-widgets/base",
            "_view_module_version": "1.2.0",
            "_view_name": "LayoutView",
            "align_content": null,
            "align_items": null,
            "align_self": null,
            "border": null,
            "bottom": null,
            "display": null,
            "flex": null,
            "flex_flow": null,
            "grid_area": null,
            "grid_auto_columns": null,
            "grid_auto_flow": null,
            "grid_auto_rows": null,
            "grid_column": null,
            "grid_gap": null,
            "grid_row": null,
            "grid_template_areas": null,
            "grid_template_columns": null,
            "grid_template_rows": null,
            "height": null,
            "justify_content": null,
            "justify_items": null,
            "left": null,
            "margin": null,
            "max_height": null,
            "max_width": null,
            "min_height": null,
            "min_width": null,
            "object_fit": null,
            "object_position": null,
            "order": null,
            "overflow": null,
            "overflow_x": null,
            "overflow_y": null,
            "padding": null,
            "right": null,
            "top": null,
            "visibility": null,
            "width": null
          }
        },
        "a717e201cc5244b28871a2ef1b77dadd": {
          "model_module": "@jupyter-widgets/base",
          "model_name": "LayoutModel",
          "model_module_version": "1.2.0",
          "state": {
            "_model_module": "@jupyter-widgets/base",
            "_model_module_version": "1.2.0",
            "_model_name": "LayoutModel",
            "_view_count": null,
            "_view_module": "@jupyter-widgets/base",
            "_view_module_version": "1.2.0",
            "_view_name": "LayoutView",
            "align_content": null,
            "align_items": null,
            "align_self": null,
            "border": null,
            "bottom": null,
            "display": null,
            "flex": null,
            "flex_flow": null,
            "grid_area": null,
            "grid_auto_columns": null,
            "grid_auto_flow": null,
            "grid_auto_rows": null,
            "grid_column": null,
            "grid_gap": null,
            "grid_row": null,
            "grid_template_areas": null,
            "grid_template_columns": null,
            "grid_template_rows": null,
            "height": null,
            "justify_content": null,
            "justify_items": null,
            "left": null,
            "margin": null,
            "max_height": null,
            "max_width": null,
            "min_height": null,
            "min_width": null,
            "object_fit": null,
            "object_position": null,
            "order": null,
            "overflow": null,
            "overflow_x": null,
            "overflow_y": null,
            "padding": null,
            "right": null,
            "top": null,
            "visibility": null,
            "width": null
          }
        },
        "d64c74780e2540868124fb291e0020f6": {
          "model_module": "@jupyter-widgets/controls",
          "model_name": "DescriptionStyleModel",
          "model_module_version": "1.5.0",
          "state": {
            "_model_module": "@jupyter-widgets/controls",
            "_model_module_version": "1.5.0",
            "_model_name": "DescriptionStyleModel",
            "_view_count": null,
            "_view_module": "@jupyter-widgets/base",
            "_view_module_version": "1.2.0",
            "_view_name": "StyleView",
            "description_width": ""
          }
        },
        "fb446b71ddfc489e96a25261337ca850": {
          "model_module": "@jupyter-widgets/base",
          "model_name": "LayoutModel",
          "model_module_version": "1.2.0",
          "state": {
            "_model_module": "@jupyter-widgets/base",
            "_model_module_version": "1.2.0",
            "_model_name": "LayoutModel",
            "_view_count": null,
            "_view_module": "@jupyter-widgets/base",
            "_view_module_version": "1.2.0",
            "_view_name": "LayoutView",
            "align_content": null,
            "align_items": null,
            "align_self": null,
            "border": null,
            "bottom": null,
            "display": null,
            "flex": null,
            "flex_flow": null,
            "grid_area": null,
            "grid_auto_columns": null,
            "grid_auto_flow": null,
            "grid_auto_rows": null,
            "grid_column": null,
            "grid_gap": null,
            "grid_row": null,
            "grid_template_areas": null,
            "grid_template_columns": null,
            "grid_template_rows": null,
            "height": null,
            "justify_content": null,
            "justify_items": null,
            "left": null,
            "margin": null,
            "max_height": null,
            "max_width": null,
            "min_height": null,
            "min_width": null,
            "object_fit": null,
            "object_position": null,
            "order": null,
            "overflow": null,
            "overflow_x": null,
            "overflow_y": null,
            "padding": null,
            "right": null,
            "top": null,
            "visibility": null,
            "width": null
          }
        },
        "a596d4eeb4b742089dd099d56bcae556": {
          "model_module": "@jupyter-widgets/controls",
          "model_name": "ProgressStyleModel",
          "model_module_version": "1.5.0",
          "state": {
            "_model_module": "@jupyter-widgets/controls",
            "_model_module_version": "1.5.0",
            "_model_name": "ProgressStyleModel",
            "_view_count": null,
            "_view_module": "@jupyter-widgets/base",
            "_view_module_version": "1.2.0",
            "_view_name": "StyleView",
            "bar_color": null,
            "description_width": ""
          }
        },
        "89c550e0c7df49f99a89e73e61f5fe72": {
          "model_module": "@jupyter-widgets/base",
          "model_name": "LayoutModel",
          "model_module_version": "1.2.0",
          "state": {
            "_model_module": "@jupyter-widgets/base",
            "_model_module_version": "1.2.0",
            "_model_name": "LayoutModel",
            "_view_count": null,
            "_view_module": "@jupyter-widgets/base",
            "_view_module_version": "1.2.0",
            "_view_name": "LayoutView",
            "align_content": null,
            "align_items": null,
            "align_self": null,
            "border": null,
            "bottom": null,
            "display": null,
            "flex": null,
            "flex_flow": null,
            "grid_area": null,
            "grid_auto_columns": null,
            "grid_auto_flow": null,
            "grid_auto_rows": null,
            "grid_column": null,
            "grid_gap": null,
            "grid_row": null,
            "grid_template_areas": null,
            "grid_template_columns": null,
            "grid_template_rows": null,
            "height": null,
            "justify_content": null,
            "justify_items": null,
            "left": null,
            "margin": null,
            "max_height": null,
            "max_width": null,
            "min_height": null,
            "min_width": null,
            "object_fit": null,
            "object_position": null,
            "order": null,
            "overflow": null,
            "overflow_x": null,
            "overflow_y": null,
            "padding": null,
            "right": null,
            "top": null,
            "visibility": null,
            "width": null
          }
        },
        "ba30cea3344846c4931680da82a7f921": {
          "model_module": "@jupyter-widgets/controls",
          "model_name": "DescriptionStyleModel",
          "model_module_version": "1.5.0",
          "state": {
            "_model_module": "@jupyter-widgets/controls",
            "_model_module_version": "1.5.0",
            "_model_name": "DescriptionStyleModel",
            "_view_count": null,
            "_view_module": "@jupyter-widgets/base",
            "_view_module_version": "1.2.0",
            "_view_name": "StyleView",
            "description_width": ""
          }
        },
        "ebbb0ec49e9741c68f5cac720da6f914": {
          "model_module": "@jupyter-widgets/controls",
          "model_name": "HBoxModel",
          "model_module_version": "1.5.0",
          "state": {
            "_dom_classes": [],
            "_model_module": "@jupyter-widgets/controls",
            "_model_module_version": "1.5.0",
            "_model_name": "HBoxModel",
            "_view_count": null,
            "_view_module": "@jupyter-widgets/controls",
            "_view_module_version": "1.5.0",
            "_view_name": "HBoxView",
            "box_style": "",
            "children": [
              "IPY_MODEL_775360430a3a4c51bedc0d3ff53ee196",
              "IPY_MODEL_d0f5f02377564bd18db34017f135ffd5",
              "IPY_MODEL_7e04fd2d22544a87bcdd305d2eac61b2"
            ],
            "layout": "IPY_MODEL_198f057b6ddf44f4bc856a7f777e85dd"
          }
        },
        "775360430a3a4c51bedc0d3ff53ee196": {
          "model_module": "@jupyter-widgets/controls",
          "model_name": "HTMLModel",
          "model_module_version": "1.5.0",
          "state": {
            "_dom_classes": [],
            "_model_module": "@jupyter-widgets/controls",
            "_model_module_version": "1.5.0",
            "_model_name": "HTMLModel",
            "_view_count": null,
            "_view_module": "@jupyter-widgets/controls",
            "_view_module_version": "1.5.0",
            "_view_name": "HTMLView",
            "description": "",
            "description_tooltip": null,
            "layout": "IPY_MODEL_690c93aa62574cd2a7ea2aa2d7b1112c",
            "placeholder": "​",
            "style": "IPY_MODEL_8cf887a4349340109716bb702dc8d595",
            "value": "Downloading (…)okenizer_config.json: 100%"
          }
        },
        "d0f5f02377564bd18db34017f135ffd5": {
          "model_module": "@jupyter-widgets/controls",
          "model_name": "FloatProgressModel",
          "model_module_version": "1.5.0",
          "state": {
            "_dom_classes": [],
            "_model_module": "@jupyter-widgets/controls",
            "_model_module_version": "1.5.0",
            "_model_name": "FloatProgressModel",
            "_view_count": null,
            "_view_module": "@jupyter-widgets/controls",
            "_view_module_version": "1.5.0",
            "_view_name": "ProgressView",
            "bar_style": "success",
            "description": "",
            "description_tooltip": null,
            "layout": "IPY_MODEL_d6825180dad3439d8c2208753363c043",
            "max": 364,
            "min": 0,
            "orientation": "horizontal",
            "style": "IPY_MODEL_a1a9f8d35e48438a8528a9367f8a0562",
            "value": 364
          }
        },
        "7e04fd2d22544a87bcdd305d2eac61b2": {
          "model_module": "@jupyter-widgets/controls",
          "model_name": "HTMLModel",
          "model_module_version": "1.5.0",
          "state": {
            "_dom_classes": [],
            "_model_module": "@jupyter-widgets/controls",
            "_model_module_version": "1.5.0",
            "_model_name": "HTMLModel",
            "_view_count": null,
            "_view_module": "@jupyter-widgets/controls",
            "_view_module_version": "1.5.0",
            "_view_name": "HTMLView",
            "description": "",
            "description_tooltip": null,
            "layout": "IPY_MODEL_7a16ed1687d74645a62e7292addf3181",
            "placeholder": "​",
            "style": "IPY_MODEL_3b04797c19884b90b41a439b328ff303",
            "value": " 364/364 [00:00&lt;00:00, 8.59kB/s]"
          }
        },
        "198f057b6ddf44f4bc856a7f777e85dd": {
          "model_module": "@jupyter-widgets/base",
          "model_name": "LayoutModel",
          "model_module_version": "1.2.0",
          "state": {
            "_model_module": "@jupyter-widgets/base",
            "_model_module_version": "1.2.0",
            "_model_name": "LayoutModel",
            "_view_count": null,
            "_view_module": "@jupyter-widgets/base",
            "_view_module_version": "1.2.0",
            "_view_name": "LayoutView",
            "align_content": null,
            "align_items": null,
            "align_self": null,
            "border": null,
            "bottom": null,
            "display": null,
            "flex": null,
            "flex_flow": null,
            "grid_area": null,
            "grid_auto_columns": null,
            "grid_auto_flow": null,
            "grid_auto_rows": null,
            "grid_column": null,
            "grid_gap": null,
            "grid_row": null,
            "grid_template_areas": null,
            "grid_template_columns": null,
            "grid_template_rows": null,
            "height": null,
            "justify_content": null,
            "justify_items": null,
            "left": null,
            "margin": null,
            "max_height": null,
            "max_width": null,
            "min_height": null,
            "min_width": null,
            "object_fit": null,
            "object_position": null,
            "order": null,
            "overflow": null,
            "overflow_x": null,
            "overflow_y": null,
            "padding": null,
            "right": null,
            "top": null,
            "visibility": null,
            "width": null
          }
        },
        "690c93aa62574cd2a7ea2aa2d7b1112c": {
          "model_module": "@jupyter-widgets/base",
          "model_name": "LayoutModel",
          "model_module_version": "1.2.0",
          "state": {
            "_model_module": "@jupyter-widgets/base",
            "_model_module_version": "1.2.0",
            "_model_name": "LayoutModel",
            "_view_count": null,
            "_view_module": "@jupyter-widgets/base",
            "_view_module_version": "1.2.0",
            "_view_name": "LayoutView",
            "align_content": null,
            "align_items": null,
            "align_self": null,
            "border": null,
            "bottom": null,
            "display": null,
            "flex": null,
            "flex_flow": null,
            "grid_area": null,
            "grid_auto_columns": null,
            "grid_auto_flow": null,
            "grid_auto_rows": null,
            "grid_column": null,
            "grid_gap": null,
            "grid_row": null,
            "grid_template_areas": null,
            "grid_template_columns": null,
            "grid_template_rows": null,
            "height": null,
            "justify_content": null,
            "justify_items": null,
            "left": null,
            "margin": null,
            "max_height": null,
            "max_width": null,
            "min_height": null,
            "min_width": null,
            "object_fit": null,
            "object_position": null,
            "order": null,
            "overflow": null,
            "overflow_x": null,
            "overflow_y": null,
            "padding": null,
            "right": null,
            "top": null,
            "visibility": null,
            "width": null
          }
        },
        "8cf887a4349340109716bb702dc8d595": {
          "model_module": "@jupyter-widgets/controls",
          "model_name": "DescriptionStyleModel",
          "model_module_version": "1.5.0",
          "state": {
            "_model_module": "@jupyter-widgets/controls",
            "_model_module_version": "1.5.0",
            "_model_name": "DescriptionStyleModel",
            "_view_count": null,
            "_view_module": "@jupyter-widgets/base",
            "_view_module_version": "1.2.0",
            "_view_name": "StyleView",
            "description_width": ""
          }
        },
        "d6825180dad3439d8c2208753363c043": {
          "model_module": "@jupyter-widgets/base",
          "model_name": "LayoutModel",
          "model_module_version": "1.2.0",
          "state": {
            "_model_module": "@jupyter-widgets/base",
            "_model_module_version": "1.2.0",
            "_model_name": "LayoutModel",
            "_view_count": null,
            "_view_module": "@jupyter-widgets/base",
            "_view_module_version": "1.2.0",
            "_view_name": "LayoutView",
            "align_content": null,
            "align_items": null,
            "align_self": null,
            "border": null,
            "bottom": null,
            "display": null,
            "flex": null,
            "flex_flow": null,
            "grid_area": null,
            "grid_auto_columns": null,
            "grid_auto_flow": null,
            "grid_auto_rows": null,
            "grid_column": null,
            "grid_gap": null,
            "grid_row": null,
            "grid_template_areas": null,
            "grid_template_columns": null,
            "grid_template_rows": null,
            "height": null,
            "justify_content": null,
            "justify_items": null,
            "left": null,
            "margin": null,
            "max_height": null,
            "max_width": null,
            "min_height": null,
            "min_width": null,
            "object_fit": null,
            "object_position": null,
            "order": null,
            "overflow": null,
            "overflow_x": null,
            "overflow_y": null,
            "padding": null,
            "right": null,
            "top": null,
            "visibility": null,
            "width": null
          }
        },
        "a1a9f8d35e48438a8528a9367f8a0562": {
          "model_module": "@jupyter-widgets/controls",
          "model_name": "ProgressStyleModel",
          "model_module_version": "1.5.0",
          "state": {
            "_model_module": "@jupyter-widgets/controls",
            "_model_module_version": "1.5.0",
            "_model_name": "ProgressStyleModel",
            "_view_count": null,
            "_view_module": "@jupyter-widgets/base",
            "_view_module_version": "1.2.0",
            "_view_name": "StyleView",
            "bar_color": null,
            "description_width": ""
          }
        },
        "7a16ed1687d74645a62e7292addf3181": {
          "model_module": "@jupyter-widgets/base",
          "model_name": "LayoutModel",
          "model_module_version": "1.2.0",
          "state": {
            "_model_module": "@jupyter-widgets/base",
            "_model_module_version": "1.2.0",
            "_model_name": "LayoutModel",
            "_view_count": null,
            "_view_module": "@jupyter-widgets/base",
            "_view_module_version": "1.2.0",
            "_view_name": "LayoutView",
            "align_content": null,
            "align_items": null,
            "align_self": null,
            "border": null,
            "bottom": null,
            "display": null,
            "flex": null,
            "flex_flow": null,
            "grid_area": null,
            "grid_auto_columns": null,
            "grid_auto_flow": null,
            "grid_auto_rows": null,
            "grid_column": null,
            "grid_gap": null,
            "grid_row": null,
            "grid_template_areas": null,
            "grid_template_columns": null,
            "grid_template_rows": null,
            "height": null,
            "justify_content": null,
            "justify_items": null,
            "left": null,
            "margin": null,
            "max_height": null,
            "max_width": null,
            "min_height": null,
            "min_width": null,
            "object_fit": null,
            "object_position": null,
            "order": null,
            "overflow": null,
            "overflow_x": null,
            "overflow_y": null,
            "padding": null,
            "right": null,
            "top": null,
            "visibility": null,
            "width": null
          }
        },
        "3b04797c19884b90b41a439b328ff303": {
          "model_module": "@jupyter-widgets/controls",
          "model_name": "DescriptionStyleModel",
          "model_module_version": "1.5.0",
          "state": {
            "_model_module": "@jupyter-widgets/controls",
            "_model_module_version": "1.5.0",
            "_model_name": "DescriptionStyleModel",
            "_view_count": null,
            "_view_module": "@jupyter-widgets/base",
            "_view_module_version": "1.2.0",
            "_view_name": "StyleView",
            "description_width": ""
          }
        },
        "c537e2a6a50948fbb1b02029601e68d7": {
          "model_module": "@jupyter-widgets/controls",
          "model_name": "HBoxModel",
          "model_module_version": "1.5.0",
          "state": {
            "_dom_classes": [],
            "_model_module": "@jupyter-widgets/controls",
            "_model_module_version": "1.5.0",
            "_model_name": "HBoxModel",
            "_view_count": null,
            "_view_module": "@jupyter-widgets/controls",
            "_view_module_version": "1.5.0",
            "_view_name": "HBoxView",
            "box_style": "",
            "children": [
              "IPY_MODEL_70b5848945df446dafab35c6d688d449",
              "IPY_MODEL_cf0a4e10826a47d28a19f11fe105be5c",
              "IPY_MODEL_8c2e86e18dae433884ba24cfc7f934c9"
            ],
            "layout": "IPY_MODEL_ad8b8e2963e84fa4b4e3e477b84c8704"
          }
        },
        "70b5848945df446dafab35c6d688d449": {
          "model_module": "@jupyter-widgets/controls",
          "model_name": "HTMLModel",
          "model_module_version": "1.5.0",
          "state": {
            "_dom_classes": [],
            "_model_module": "@jupyter-widgets/controls",
            "_model_module_version": "1.5.0",
            "_model_name": "HTMLModel",
            "_view_count": null,
            "_view_module": "@jupyter-widgets/controls",
            "_view_module_version": "1.5.0",
            "_view_name": "HTMLView",
            "description": "",
            "description_tooltip": null,
            "layout": "IPY_MODEL_86a035baa9be4e0ba8a27081dfb28c45",
            "placeholder": "​",
            "style": "IPY_MODEL_d825d5adcf1c498ea179f2ded5bbcb8f",
            "value": "Downloading (…)lve/main/config.json: 100%"
          }
        },
        "cf0a4e10826a47d28a19f11fe105be5c": {
          "model_module": "@jupyter-widgets/controls",
          "model_name": "FloatProgressModel",
          "model_module_version": "1.5.0",
          "state": {
            "_dom_classes": [],
            "_model_module": "@jupyter-widgets/controls",
            "_model_module_version": "1.5.0",
            "_model_name": "FloatProgressModel",
            "_view_count": null,
            "_view_module": "@jupyter-widgets/controls",
            "_view_module_version": "1.5.0",
            "_view_name": "ProgressView",
            "bar_style": "success",
            "description": "",
            "description_tooltip": null,
            "layout": "IPY_MODEL_b686145abda641f7bf720b7b881a61c1",
            "max": 648,
            "min": 0,
            "orientation": "horizontal",
            "style": "IPY_MODEL_95ecbcea16934ee9bbee12f0157e013b",
            "value": 648
          }
        },
        "8c2e86e18dae433884ba24cfc7f934c9": {
          "model_module": "@jupyter-widgets/controls",
          "model_name": "HTMLModel",
          "model_module_version": "1.5.0",
          "state": {
            "_dom_classes": [],
            "_model_module": "@jupyter-widgets/controls",
            "_model_module_version": "1.5.0",
            "_model_name": "HTMLModel",
            "_view_count": null,
            "_view_module": "@jupyter-widgets/controls",
            "_view_module_version": "1.5.0",
            "_view_name": "HTMLView",
            "description": "",
            "description_tooltip": null,
            "layout": "IPY_MODEL_edc3887320fd432e874b1257b931431e",
            "placeholder": "​",
            "style": "IPY_MODEL_adcb010d03334d879df667bccb6ce7de",
            "value": " 648/648 [00:00&lt;00:00, 18.7kB/s]"
          }
        },
        "ad8b8e2963e84fa4b4e3e477b84c8704": {
          "model_module": "@jupyter-widgets/base",
          "model_name": "LayoutModel",
          "model_module_version": "1.2.0",
          "state": {
            "_model_module": "@jupyter-widgets/base",
            "_model_module_version": "1.2.0",
            "_model_name": "LayoutModel",
            "_view_count": null,
            "_view_module": "@jupyter-widgets/base",
            "_view_module_version": "1.2.0",
            "_view_name": "LayoutView",
            "align_content": null,
            "align_items": null,
            "align_self": null,
            "border": null,
            "bottom": null,
            "display": null,
            "flex": null,
            "flex_flow": null,
            "grid_area": null,
            "grid_auto_columns": null,
            "grid_auto_flow": null,
            "grid_auto_rows": null,
            "grid_column": null,
            "grid_gap": null,
            "grid_row": null,
            "grid_template_areas": null,
            "grid_template_columns": null,
            "grid_template_rows": null,
            "height": null,
            "justify_content": null,
            "justify_items": null,
            "left": null,
            "margin": null,
            "max_height": null,
            "max_width": null,
            "min_height": null,
            "min_width": null,
            "object_fit": null,
            "object_position": null,
            "order": null,
            "overflow": null,
            "overflow_x": null,
            "overflow_y": null,
            "padding": null,
            "right": null,
            "top": null,
            "visibility": null,
            "width": null
          }
        },
        "86a035baa9be4e0ba8a27081dfb28c45": {
          "model_module": "@jupyter-widgets/base",
          "model_name": "LayoutModel",
          "model_module_version": "1.2.0",
          "state": {
            "_model_module": "@jupyter-widgets/base",
            "_model_module_version": "1.2.0",
            "_model_name": "LayoutModel",
            "_view_count": null,
            "_view_module": "@jupyter-widgets/base",
            "_view_module_version": "1.2.0",
            "_view_name": "LayoutView",
            "align_content": null,
            "align_items": null,
            "align_self": null,
            "border": null,
            "bottom": null,
            "display": null,
            "flex": null,
            "flex_flow": null,
            "grid_area": null,
            "grid_auto_columns": null,
            "grid_auto_flow": null,
            "grid_auto_rows": null,
            "grid_column": null,
            "grid_gap": null,
            "grid_row": null,
            "grid_template_areas": null,
            "grid_template_columns": null,
            "grid_template_rows": null,
            "height": null,
            "justify_content": null,
            "justify_items": null,
            "left": null,
            "margin": null,
            "max_height": null,
            "max_width": null,
            "min_height": null,
            "min_width": null,
            "object_fit": null,
            "object_position": null,
            "order": null,
            "overflow": null,
            "overflow_x": null,
            "overflow_y": null,
            "padding": null,
            "right": null,
            "top": null,
            "visibility": null,
            "width": null
          }
        },
        "d825d5adcf1c498ea179f2ded5bbcb8f": {
          "model_module": "@jupyter-widgets/controls",
          "model_name": "DescriptionStyleModel",
          "model_module_version": "1.5.0",
          "state": {
            "_model_module": "@jupyter-widgets/controls",
            "_model_module_version": "1.5.0",
            "_model_name": "DescriptionStyleModel",
            "_view_count": null,
            "_view_module": "@jupyter-widgets/base",
            "_view_module_version": "1.2.0",
            "_view_name": "StyleView",
            "description_width": ""
          }
        },
        "b686145abda641f7bf720b7b881a61c1": {
          "model_module": "@jupyter-widgets/base",
          "model_name": "LayoutModel",
          "model_module_version": "1.2.0",
          "state": {
            "_model_module": "@jupyter-widgets/base",
            "_model_module_version": "1.2.0",
            "_model_name": "LayoutModel",
            "_view_count": null,
            "_view_module": "@jupyter-widgets/base",
            "_view_module_version": "1.2.0",
            "_view_name": "LayoutView",
            "align_content": null,
            "align_items": null,
            "align_self": null,
            "border": null,
            "bottom": null,
            "display": null,
            "flex": null,
            "flex_flow": null,
            "grid_area": null,
            "grid_auto_columns": null,
            "grid_auto_flow": null,
            "grid_auto_rows": null,
            "grid_column": null,
            "grid_gap": null,
            "grid_row": null,
            "grid_template_areas": null,
            "grid_template_columns": null,
            "grid_template_rows": null,
            "height": null,
            "justify_content": null,
            "justify_items": null,
            "left": null,
            "margin": null,
            "max_height": null,
            "max_width": null,
            "min_height": null,
            "min_width": null,
            "object_fit": null,
            "object_position": null,
            "order": null,
            "overflow": null,
            "overflow_x": null,
            "overflow_y": null,
            "padding": null,
            "right": null,
            "top": null,
            "visibility": null,
            "width": null
          }
        },
        "95ecbcea16934ee9bbee12f0157e013b": {
          "model_module": "@jupyter-widgets/controls",
          "model_name": "ProgressStyleModel",
          "model_module_version": "1.5.0",
          "state": {
            "_model_module": "@jupyter-widgets/controls",
            "_model_module_version": "1.5.0",
            "_model_name": "ProgressStyleModel",
            "_view_count": null,
            "_view_module": "@jupyter-widgets/base",
            "_view_module_version": "1.2.0",
            "_view_name": "StyleView",
            "bar_color": null,
            "description_width": ""
          }
        },
        "edc3887320fd432e874b1257b931431e": {
          "model_module": "@jupyter-widgets/base",
          "model_name": "LayoutModel",
          "model_module_version": "1.2.0",
          "state": {
            "_model_module": "@jupyter-widgets/base",
            "_model_module_version": "1.2.0",
            "_model_name": "LayoutModel",
            "_view_count": null,
            "_view_module": "@jupyter-widgets/base",
            "_view_module_version": "1.2.0",
            "_view_name": "LayoutView",
            "align_content": null,
            "align_items": null,
            "align_self": null,
            "border": null,
            "bottom": null,
            "display": null,
            "flex": null,
            "flex_flow": null,
            "grid_area": null,
            "grid_auto_columns": null,
            "grid_auto_flow": null,
            "grid_auto_rows": null,
            "grid_column": null,
            "grid_gap": null,
            "grid_row": null,
            "grid_template_areas": null,
            "grid_template_columns": null,
            "grid_template_rows": null,
            "height": null,
            "justify_content": null,
            "justify_items": null,
            "left": null,
            "margin": null,
            "max_height": null,
            "max_width": null,
            "min_height": null,
            "min_width": null,
            "object_fit": null,
            "object_position": null,
            "order": null,
            "overflow": null,
            "overflow_x": null,
            "overflow_y": null,
            "padding": null,
            "right": null,
            "top": null,
            "visibility": null,
            "width": null
          }
        },
        "adcb010d03334d879df667bccb6ce7de": {
          "model_module": "@jupyter-widgets/controls",
          "model_name": "DescriptionStyleModel",
          "model_module_version": "1.5.0",
          "state": {
            "_model_module": "@jupyter-widgets/controls",
            "_model_module_version": "1.5.0",
            "_model_name": "DescriptionStyleModel",
            "_view_count": null,
            "_view_module": "@jupyter-widgets/base",
            "_view_module_version": "1.2.0",
            "_view_name": "StyleView",
            "description_width": ""
          }
        },
        "538d2627b6414adfa1e28d89fe25de60": {
          "model_module": "@jupyter-widgets/controls",
          "model_name": "HBoxModel",
          "model_module_version": "1.5.0",
          "state": {
            "_dom_classes": [],
            "_model_module": "@jupyter-widgets/controls",
            "_model_module_version": "1.5.0",
            "_model_name": "HBoxModel",
            "_view_count": null,
            "_view_module": "@jupyter-widgets/controls",
            "_view_module_version": "1.5.0",
            "_view_name": "HBoxView",
            "box_style": "",
            "children": [
              "IPY_MODEL_c4bede5c44db43d98aac5c1ca490af1c",
              "IPY_MODEL_75923e0d1e984f96872dcebcec9b0c44",
              "IPY_MODEL_c866f9840f82402fb31fa091214e7cb3"
            ],
            "layout": "IPY_MODEL_86c61d28431b4fa580aebf7de32305d9"
          }
        },
        "c4bede5c44db43d98aac5c1ca490af1c": {
          "model_module": "@jupyter-widgets/controls",
          "model_name": "HTMLModel",
          "model_module_version": "1.5.0",
          "state": {
            "_dom_classes": [],
            "_model_module": "@jupyter-widgets/controls",
            "_model_module_version": "1.5.0",
            "_model_name": "HTMLModel",
            "_view_count": null,
            "_view_module": "@jupyter-widgets/controls",
            "_view_module_version": "1.5.0",
            "_view_name": "HTMLView",
            "description": "",
            "description_tooltip": null,
            "layout": "IPY_MODEL_622ed53ae08b44619575c62f7448256d",
            "placeholder": "​",
            "style": "IPY_MODEL_f6654c41b20f478fa2986c86dd84f038",
            "value": "Downloading pytorch_model.bin: 100%"
          }
        },
        "75923e0d1e984f96872dcebcec9b0c44": {
          "model_module": "@jupyter-widgets/controls",
          "model_name": "FloatProgressModel",
          "model_module_version": "1.5.0",
          "state": {
            "_dom_classes": [],
            "_model_module": "@jupyter-widgets/controls",
            "_model_module_version": "1.5.0",
            "_model_name": "FloatProgressModel",
            "_view_count": null,
            "_view_module": "@jupyter-widgets/controls",
            "_view_module_version": "1.5.0",
            "_view_name": "ProgressView",
            "bar_style": "success",
            "description": "",
            "description_tooltip": null,
            "layout": "IPY_MODEL_c2f6085f6a554c7ab913246bda06304b",
            "max": 439621341,
            "min": 0,
            "orientation": "horizontal",
            "style": "IPY_MODEL_f094088fa5ca454b8dc22fbfbd205fcc",
            "value": 439621341
          }
        },
        "c866f9840f82402fb31fa091214e7cb3": {
          "model_module": "@jupyter-widgets/controls",
          "model_name": "HTMLModel",
          "model_module_version": "1.5.0",
          "state": {
            "_dom_classes": [],
            "_model_module": "@jupyter-widgets/controls",
            "_model_module_version": "1.5.0",
            "_model_name": "HTMLModel",
            "_view_count": null,
            "_view_module": "@jupyter-widgets/controls",
            "_view_module_version": "1.5.0",
            "_view_name": "HTMLView",
            "description": "",
            "description_tooltip": null,
            "layout": "IPY_MODEL_21ef593956514322a22cee6521db9b12",
            "placeholder": "​",
            "style": "IPY_MODEL_ef5c99f84c2f46aab1239bb8a558fe66",
            "value": " 440M/440M [00:03&lt;00:00, 225MB/s]"
          }
        },
        "86c61d28431b4fa580aebf7de32305d9": {
          "model_module": "@jupyter-widgets/base",
          "model_name": "LayoutModel",
          "model_module_version": "1.2.0",
          "state": {
            "_model_module": "@jupyter-widgets/base",
            "_model_module_version": "1.2.0",
            "_model_name": "LayoutModel",
            "_view_count": null,
            "_view_module": "@jupyter-widgets/base",
            "_view_module_version": "1.2.0",
            "_view_name": "LayoutView",
            "align_content": null,
            "align_items": null,
            "align_self": null,
            "border": null,
            "bottom": null,
            "display": null,
            "flex": null,
            "flex_flow": null,
            "grid_area": null,
            "grid_auto_columns": null,
            "grid_auto_flow": null,
            "grid_auto_rows": null,
            "grid_column": null,
            "grid_gap": null,
            "grid_row": null,
            "grid_template_areas": null,
            "grid_template_columns": null,
            "grid_template_rows": null,
            "height": null,
            "justify_content": null,
            "justify_items": null,
            "left": null,
            "margin": null,
            "max_height": null,
            "max_width": null,
            "min_height": null,
            "min_width": null,
            "object_fit": null,
            "object_position": null,
            "order": null,
            "overflow": null,
            "overflow_x": null,
            "overflow_y": null,
            "padding": null,
            "right": null,
            "top": null,
            "visibility": null,
            "width": null
          }
        },
        "622ed53ae08b44619575c62f7448256d": {
          "model_module": "@jupyter-widgets/base",
          "model_name": "LayoutModel",
          "model_module_version": "1.2.0",
          "state": {
            "_model_module": "@jupyter-widgets/base",
            "_model_module_version": "1.2.0",
            "_model_name": "LayoutModel",
            "_view_count": null,
            "_view_module": "@jupyter-widgets/base",
            "_view_module_version": "1.2.0",
            "_view_name": "LayoutView",
            "align_content": null,
            "align_items": null,
            "align_self": null,
            "border": null,
            "bottom": null,
            "display": null,
            "flex": null,
            "flex_flow": null,
            "grid_area": null,
            "grid_auto_columns": null,
            "grid_auto_flow": null,
            "grid_auto_rows": null,
            "grid_column": null,
            "grid_gap": null,
            "grid_row": null,
            "grid_template_areas": null,
            "grid_template_columns": null,
            "grid_template_rows": null,
            "height": null,
            "justify_content": null,
            "justify_items": null,
            "left": null,
            "margin": null,
            "max_height": null,
            "max_width": null,
            "min_height": null,
            "min_width": null,
            "object_fit": null,
            "object_position": null,
            "order": null,
            "overflow": null,
            "overflow_x": null,
            "overflow_y": null,
            "padding": null,
            "right": null,
            "top": null,
            "visibility": null,
            "width": null
          }
        },
        "f6654c41b20f478fa2986c86dd84f038": {
          "model_module": "@jupyter-widgets/controls",
          "model_name": "DescriptionStyleModel",
          "model_module_version": "1.5.0",
          "state": {
            "_model_module": "@jupyter-widgets/controls",
            "_model_module_version": "1.5.0",
            "_model_name": "DescriptionStyleModel",
            "_view_count": null,
            "_view_module": "@jupyter-widgets/base",
            "_view_module_version": "1.2.0",
            "_view_name": "StyleView",
            "description_width": ""
          }
        },
        "c2f6085f6a554c7ab913246bda06304b": {
          "model_module": "@jupyter-widgets/base",
          "model_name": "LayoutModel",
          "model_module_version": "1.2.0",
          "state": {
            "_model_module": "@jupyter-widgets/base",
            "_model_module_version": "1.2.0",
            "_model_name": "LayoutModel",
            "_view_count": null,
            "_view_module": "@jupyter-widgets/base",
            "_view_module_version": "1.2.0",
            "_view_name": "LayoutView",
            "align_content": null,
            "align_items": null,
            "align_self": null,
            "border": null,
            "bottom": null,
            "display": null,
            "flex": null,
            "flex_flow": null,
            "grid_area": null,
            "grid_auto_columns": null,
            "grid_auto_flow": null,
            "grid_auto_rows": null,
            "grid_column": null,
            "grid_gap": null,
            "grid_row": null,
            "grid_template_areas": null,
            "grid_template_columns": null,
            "grid_template_rows": null,
            "height": null,
            "justify_content": null,
            "justify_items": null,
            "left": null,
            "margin": null,
            "max_height": null,
            "max_width": null,
            "min_height": null,
            "min_width": null,
            "object_fit": null,
            "object_position": null,
            "order": null,
            "overflow": null,
            "overflow_x": null,
            "overflow_y": null,
            "padding": null,
            "right": null,
            "top": null,
            "visibility": null,
            "width": null
          }
        },
        "f094088fa5ca454b8dc22fbfbd205fcc": {
          "model_module": "@jupyter-widgets/controls",
          "model_name": "ProgressStyleModel",
          "model_module_version": "1.5.0",
          "state": {
            "_model_module": "@jupyter-widgets/controls",
            "_model_module_version": "1.5.0",
            "_model_name": "ProgressStyleModel",
            "_view_count": null,
            "_view_module": "@jupyter-widgets/base",
            "_view_module_version": "1.2.0",
            "_view_name": "StyleView",
            "bar_color": null,
            "description_width": ""
          }
        },
        "21ef593956514322a22cee6521db9b12": {
          "model_module": "@jupyter-widgets/base",
          "model_name": "LayoutModel",
          "model_module_version": "1.2.0",
          "state": {
            "_model_module": "@jupyter-widgets/base",
            "_model_module_version": "1.2.0",
            "_model_name": "LayoutModel",
            "_view_count": null,
            "_view_module": "@jupyter-widgets/base",
            "_view_module_version": "1.2.0",
            "_view_name": "LayoutView",
            "align_content": null,
            "align_items": null,
            "align_self": null,
            "border": null,
            "bottom": null,
            "display": null,
            "flex": null,
            "flex_flow": null,
            "grid_area": null,
            "grid_auto_columns": null,
            "grid_auto_flow": null,
            "grid_auto_rows": null,
            "grid_column": null,
            "grid_gap": null,
            "grid_row": null,
            "grid_template_areas": null,
            "grid_template_columns": null,
            "grid_template_rows": null,
            "height": null,
            "justify_content": null,
            "justify_items": null,
            "left": null,
            "margin": null,
            "max_height": null,
            "max_width": null,
            "min_height": null,
            "min_width": null,
            "object_fit": null,
            "object_position": null,
            "order": null,
            "overflow": null,
            "overflow_x": null,
            "overflow_y": null,
            "padding": null,
            "right": null,
            "top": null,
            "visibility": null,
            "width": null
          }
        },
        "ef5c99f84c2f46aab1239bb8a558fe66": {
          "model_module": "@jupyter-widgets/controls",
          "model_name": "DescriptionStyleModel",
          "model_module_version": "1.5.0",
          "state": {
            "_model_module": "@jupyter-widgets/controls",
            "_model_module_version": "1.5.0",
            "_model_name": "DescriptionStyleModel",
            "_view_count": null,
            "_view_module": "@jupyter-widgets/base",
            "_view_module_version": "1.2.0",
            "_view_name": "StyleView",
            "description_width": ""
          }
        }
      }
    }
  },
  "cells": [
    {
      "cell_type": "code",
      "source": [
        "from google.colab import drive\n",
        "drive.mount('/content/drive')"
      ],
      "metadata": {
        "colab": {
          "base_uri": "https://localhost:8080/"
        },
        "id": "DVv0-WzNR1RD",
        "outputId": "7fcf3374-3690-4dbd-dfc9-880bbf1c332e"
      },
      "execution_count": 1,
      "outputs": [
        {
          "output_type": "stream",
          "name": "stdout",
          "text": [
            "Mounted at /content/drive\n"
          ]
        }
      ]
    },
    {
      "cell_type": "code",
      "metadata": {
        "id": "_vbubgPZnoBz",
        "colab": {
          "base_uri": "https://localhost:8080/"
        },
        "outputId": "2194e51a-ec06-4d09-ea12-ea6731b12798"
      },
      "source": [
        "!pip install transformers"
      ],
      "execution_count": 2,
      "outputs": [
        {
          "output_type": "stream",
          "name": "stdout",
          "text": [
            "Collecting transformers\n",
            "  Downloading transformers-4.33.3-py3-none-any.whl (7.6 MB)\n",
            "\u001b[2K     \u001b[90m━━━━━━━━━━━━━━━━━━━━━━━━━━━━━━━━━━━━━━━━\u001b[0m \u001b[32m7.6/7.6 MB\u001b[0m \u001b[31m43.1 MB/s\u001b[0m eta \u001b[36m0:00:00\u001b[0m\n",
            "\u001b[?25hRequirement already satisfied: filelock in /usr/local/lib/python3.10/dist-packages (from transformers) (3.12.2)\n",
            "Collecting huggingface-hub<1.0,>=0.15.1 (from transformers)\n",
            "  Downloading huggingface_hub-0.17.3-py3-none-any.whl (295 kB)\n",
            "\u001b[2K     \u001b[90m━━━━━━━━━━━━━━━━━━━━━━━━━━━━━━━━━━━━━━\u001b[0m \u001b[32m295.0/295.0 kB\u001b[0m \u001b[31m23.6 MB/s\u001b[0m eta \u001b[36m0:00:00\u001b[0m\n",
            "\u001b[?25hRequirement already satisfied: numpy>=1.17 in /usr/local/lib/python3.10/dist-packages (from transformers) (1.23.5)\n",
            "Requirement already satisfied: packaging>=20.0 in /usr/local/lib/python3.10/dist-packages (from transformers) (23.1)\n",
            "Requirement already satisfied: pyyaml>=5.1 in /usr/local/lib/python3.10/dist-packages (from transformers) (6.0.1)\n",
            "Requirement already satisfied: regex!=2019.12.17 in /usr/local/lib/python3.10/dist-packages (from transformers) (2023.6.3)\n",
            "Requirement already satisfied: requests in /usr/local/lib/python3.10/dist-packages (from transformers) (2.31.0)\n",
            "Collecting tokenizers!=0.11.3,<0.14,>=0.11.1 (from transformers)\n",
            "  Downloading tokenizers-0.13.3-cp310-cp310-manylinux_2_17_x86_64.manylinux2014_x86_64.whl (7.8 MB)\n",
            "\u001b[2K     \u001b[90m━━━━━━━━━━━━━━━━━━━━━━━━━━━━━━━━━━━━━━━━\u001b[0m \u001b[32m7.8/7.8 MB\u001b[0m \u001b[31m85.0 MB/s\u001b[0m eta \u001b[36m0:00:00\u001b[0m\n",
            "\u001b[?25hCollecting safetensors>=0.3.1 (from transformers)\n",
            "  Downloading safetensors-0.3.3-cp310-cp310-manylinux_2_17_x86_64.manylinux2014_x86_64.whl (1.3 MB)\n",
            "\u001b[2K     \u001b[90m━━━━━━━━━━━━━━━━━━━━━━━━━━━━━━━━━━━━━━━━\u001b[0m \u001b[32m1.3/1.3 MB\u001b[0m \u001b[31m85.3 MB/s\u001b[0m eta \u001b[36m0:00:00\u001b[0m\n",
            "\u001b[?25hRequirement already satisfied: tqdm>=4.27 in /usr/local/lib/python3.10/dist-packages (from transformers) (4.66.1)\n",
            "Requirement already satisfied: fsspec in /usr/local/lib/python3.10/dist-packages (from huggingface-hub<1.0,>=0.15.1->transformers) (2023.6.0)\n",
            "Requirement already satisfied: typing-extensions>=3.7.4.3 in /usr/local/lib/python3.10/dist-packages (from huggingface-hub<1.0,>=0.15.1->transformers) (4.5.0)\n",
            "Requirement already satisfied: charset-normalizer<4,>=2 in /usr/local/lib/python3.10/dist-packages (from requests->transformers) (3.2.0)\n",
            "Requirement already satisfied: idna<4,>=2.5 in /usr/local/lib/python3.10/dist-packages (from requests->transformers) (3.4)\n",
            "Requirement already satisfied: urllib3<3,>=1.21.1 in /usr/local/lib/python3.10/dist-packages (from requests->transformers) (2.0.4)\n",
            "Requirement already satisfied: certifi>=2017.4.17 in /usr/local/lib/python3.10/dist-packages (from requests->transformers) (2023.7.22)\n",
            "Installing collected packages: tokenizers, safetensors, huggingface-hub, transformers\n",
            "Successfully installed huggingface-hub-0.17.3 safetensors-0.3.3 tokenizers-0.13.3 transformers-4.33.3\n"
          ]
        }
      ]
    },
    {
      "cell_type": "code",
      "metadata": {
        "id": "Mc8cWZgOo-fw"
      },
      "source": [
        "from transformers import BertModel, BertTokenizer, AdamW, get_linear_schedule_with_warmup\n",
        "import torch\n",
        "import numpy as np\n",
        "from sklearn.model_selection import train_test_split\n",
        "from torch import nn, optim\n",
        "from torch.utils.data import Dataset, DataLoader\n",
        "import pandas as pd\n",
        "from textwrap import wrap"
      ],
      "execution_count": 3,
      "outputs": []
    },
    {
      "cell_type": "code",
      "source": [
        "import torch\n",
        "torch.cuda.empty_cache()"
      ],
      "metadata": {
        "id": "wXn14uVoU6Er"
      },
      "execution_count": 4,
      "outputs": []
    },
    {
      "cell_type": "code",
      "metadata": {
        "id": "2YBx1vdgTGV4",
        "colab": {
          "base_uri": "https://localhost:8080/"
        },
        "outputId": "f1b38317-e2a3-44a6-f90d-77c6eb6996d9"
      },
      "source": [
        "# Inicialización\n",
        "RANDOM_SEED = 42 # Semilla Aleatoria\n",
        "MAX_LEN = 128\n",
        "BATCH_SIZE = 16 #Bloque de 16\n",
        "DATASET_PATH = '/content/drive/MyDrive/Colab Notebooks/tweets_extraidos_preprocesados_sentimiento.csv' # Ruta Donde está almacenado el SET de datos\n",
        "NCLASSES = 3\n",
        "\n",
        "np.random.seed(RANDOM_SEED) # Inicializamos numpy con la semilla aleatoria\n",
        "torch.manual_seed(RANDOM_SEED) # Inicializamos los parámetros del modelo Pytotch\n",
        "device = torch.device(\"cuda:0\" if torch.cuda.is_available() else \"cpu\") # Para usar la GPU para que el procesamiento sea más rápido\n",
        "print(device)"
      ],
      "execution_count": 5,
      "outputs": [
        {
          "output_type": "stream",
          "name": "stdout",
          "text": [
            "cuda:0\n"
          ]
        }
      ]
    },
    {
      "cell_type": "code",
      "metadata": {
        "id": "NPax5SRMUHbL",
        "colab": {
          "base_uri": "https://localhost:8080/"
        },
        "outputId": "22517ee6-8bae-4788-96ad-83ac8474d651"
      },
      "source": [
        "# Cargar dataset original\n",
        "from google.colab import drive #Leemos los datos de Drive\n",
        "drive.mount('/content/drive')\n",
        "\n",
        "df = pd.read_csv(DATASET_PATH) # Leemos el set de datos\n",
        "df = df[0:10000] # tomamos una muestra de los datos para que el entrenamiento sea más rápido"
      ],
      "execution_count": 6,
      "outputs": [
        {
          "output_type": "stream",
          "name": "stdout",
          "text": [
            "Drive already mounted at /content/drive; to attempt to forcibly remount, call drive.mount(\"/content/drive\", force_remount=True).\n"
          ]
        }
      ]
    },
    {
      "cell_type": "code",
      "source": [
        "columna = \"Tweet Limpio\"\n",
        "\n",
        "# Verifica si hay valores nulos en la columna\n",
        "valores_nulos = df[columna].isnull().sum()\n",
        "\n",
        "# Imprime el número de valores nulos\n",
        "print(f\"Número de valores nulos en la columna {columna}: {valores_nulos}\")"
      ],
      "metadata": {
        "colab": {
          "base_uri": "https://localhost:8080/"
        },
        "id": "DvAs0kJPObEr",
        "outputId": "1b602dfa-ea01-42af-fb93-2f43581f7d58"
      },
      "execution_count": 7,
      "outputs": [
        {
          "output_type": "stream",
          "name": "stdout",
          "text": [
            "Número de valores nulos en la columna Tweet Limpio: 88\n"
          ]
        }
      ]
    },
    {
      "cell_type": "code",
      "source": [
        "df = df.dropna(subset=[columna])"
      ],
      "metadata": {
        "id": "voevCkSzOmCm"
      },
      "execution_count": 8,
      "outputs": []
    },
    {
      "cell_type": "code",
      "source": [
        "# Procedo a eliminar las columnas \"Emoticones\"\n",
        "eliminar_columnas = ['Emoticones']\n",
        "df = df.drop(columns = eliminar_columnas )"
      ],
      "metadata": {
        "id": "gk7uF-OJO2X2"
      },
      "execution_count": 9,
      "outputs": []
    },
    {
      "cell_type": "code",
      "source": [
        "df.rename(columns={'Tweet Limpio': 'Tweet_Limpio'}, inplace=True)\n",
        "df.rename(columns={'Analisis Sentimiento': 'Analisis_Sentimiento'}, inplace=True)"
      ],
      "metadata": {
        "id": "a9kj_jZ7auNH"
      },
      "execution_count": 10,
      "outputs": []
    },
    {
      "cell_type": "code",
      "metadata": {
        "id": "SypONkqHUZGA",
        "colab": {
          "base_uri": "https://localhost:8080/"
        },
        "outputId": "2868923d-f034-434d-ab94-8f0af8476f13"
      },
      "source": [
        "print(df.head()) # Imprime el encabezado\n",
        "print(df.shape) # Imprime el tamaño del set de datos\n",
        "print(\"\\n\".join(wrap(df['Tweet_Limpio'][200])))"
      ],
      "execution_count": 11,
      "outputs": [
        {
          "output_type": "stream",
          "name": "stdout",
          "text": [
            "          ID   ID_Texto              Nombre BD Nombre Usuario  \\\n",
            "0  110825732  110825732  Cantantes_Colombianos         Camilo   \n",
            "1  110825732  110825732  Cantantes_Colombianos         Camilo   \n",
            "2  110825732  110825732  Cantantes_Colombianos         Camilo   \n",
            "3  110825732  110825732  Cantantes_Colombianos         Camilo   \n",
            "4  110825732  110825732  Cantantes_Colombianos         Camilo   \n",
            "\n",
            "                                      Tweet Original  \\\n",
            "0  Gallo pinto en Costa Rica... y otras maneras d...   \n",
            "1  RT @rincondelatribu: La Tribu tiene casa, un h...   \n",
            "2  Contando los días!! Ya quiero iiiiiiirrrrrr 🇧🇷...   \n",
            "3  En el aeropuerto en Buenos Aires por salir a c...   \n",
            "4  Recorriendo el mundo con mi esposa y mi hija h...   \n",
            "\n",
            "                                  Tweet Preprocesado  \\\n",
            "0  gallo pinto costa rica ... manera disfrutar vi...   \n",
            "1  rt @rincondelatribu : tribu casa , hogar , ⛺ \\...   \n",
            "2  contar ! ! querer iiiiiiirrrrrr 🇧 🇷 https://t....   \n",
            "3  aeropuerto aires salir bolivia ! ! 🇧 🇴 \\n diga...   \n",
            "4      recorrer mundo esposa hija amar . cambiar . .   \n",
            "\n",
            "                                        Tweet_Limpio Analisis_Sentimiento  \\\n",
            "0     gallo pinto costa rica  manera disfrutar vida                   POS   \n",
            "1                              tribu casa  hogar                      POS   \n",
            "2                   contar   querer iiiiiiirrrrrr                     NEU   \n",
            "3  aeropuerto aires salir bolivia      digan reco...                  NEU   \n",
            "4         recorrer mundo esposa hija amar  cambiar                    NEU   \n",
            "\n",
            "   Sentimiento Score Idioma  Retweet Count  Favorite_count  Followers_count  \\\n",
            "0           0.998737     es            177            4650          1735142   \n",
            "1           0.996282     es             44               0          1735142   \n",
            "2           0.998314     es             92             830          1735142   \n",
            "3           0.997631     es             26             396          1735142   \n",
            "4           0.595363     es            122            3286          1735142   \n",
            "\n",
            "   Friends_count  Listed_count  Favourites_count  Statuses_count  \n",
            "0            488          1442              3246           15649  \n",
            "1            488          1442              3246           15649  \n",
            "2            488          1442              3246           15649  \n",
            "3            488          1442              3246           15649  \n",
            "4            488          1442              3246           15649  \n",
            "(9912, 17)\n",
            " debuts on this weeks global excl  us chart         easy on       amp\n",
            "indi\n"
          ]
        }
      ]
    },
    {
      "cell_type": "code",
      "metadata": {
        "id": "UMCr2ZBvUvoX",
        "colab": {
          "base_uri": "https://localhost:8080/",
          "height": 486
        },
        "outputId": "3353e50f-c81a-475e-95b8-4664b90076d6"
      },
      "source": [
        "# Reajustar dataset\n",
        "df['label'] = (df['Analisis_Sentimiento'] == 'POS').astype(int) * 2\n",
        "df['label'] += (df['Analisis_Sentimiento'] == 'NEU').astype(int) * 1\n",
        "df['label'] += (df['Analisis_Sentimiento'] == 'NEG').astype(int) * 0\n",
        "\n",
        "df.drop('Analisis_Sentimiento', axis=1, inplace=True)\n",
        "df.head()"
      ],
      "execution_count": 12,
      "outputs": [
        {
          "output_type": "execute_result",
          "data": {
            "text/plain": [
              "          ID   ID_Texto              Nombre BD Nombre Usuario  \\\n",
              "0  110825732  110825732  Cantantes_Colombianos         Camilo   \n",
              "1  110825732  110825732  Cantantes_Colombianos         Camilo   \n",
              "2  110825732  110825732  Cantantes_Colombianos         Camilo   \n",
              "3  110825732  110825732  Cantantes_Colombianos         Camilo   \n",
              "4  110825732  110825732  Cantantes_Colombianos         Camilo   \n",
              "\n",
              "                                      Tweet Original  \\\n",
              "0  Gallo pinto en Costa Rica... y otras maneras d...   \n",
              "1  RT @rincondelatribu: La Tribu tiene casa, un h...   \n",
              "2  Contando los días!! Ya quiero iiiiiiirrrrrr 🇧🇷...   \n",
              "3  En el aeropuerto en Buenos Aires por salir a c...   \n",
              "4  Recorriendo el mundo con mi esposa y mi hija h...   \n",
              "\n",
              "                                  Tweet Preprocesado  \\\n",
              "0  gallo pinto costa rica ... manera disfrutar vi...   \n",
              "1  rt @rincondelatribu : tribu casa , hogar , ⛺ \\...   \n",
              "2  contar ! ! querer iiiiiiirrrrrr 🇧 🇷 https://t....   \n",
              "3  aeropuerto aires salir bolivia ! ! 🇧 🇴 \\n diga...   \n",
              "4      recorrer mundo esposa hija amar . cambiar . .   \n",
              "\n",
              "                                        Tweet_Limpio  Sentimiento Score  \\\n",
              "0     gallo pinto costa rica  manera disfrutar vida            0.998737   \n",
              "1                              tribu casa  hogar               0.996282   \n",
              "2                   contar   querer iiiiiiirrrrrr              0.998314   \n",
              "3  aeropuerto aires salir bolivia      digan reco...           0.997631   \n",
              "4         recorrer mundo esposa hija amar  cambiar             0.595363   \n",
              "\n",
              "  Idioma  Retweet Count  Favorite_count  Followers_count  Friends_count  \\\n",
              "0     es            177            4650          1735142            488   \n",
              "1     es             44               0          1735142            488   \n",
              "2     es             92             830          1735142            488   \n",
              "3     es             26             396          1735142            488   \n",
              "4     es            122            3286          1735142            488   \n",
              "\n",
              "   Listed_count  Favourites_count  Statuses_count  label  \n",
              "0          1442              3246           15649      2  \n",
              "1          1442              3246           15649      2  \n",
              "2          1442              3246           15649      1  \n",
              "3          1442              3246           15649      1  \n",
              "4          1442              3246           15649      1  "
            ],
            "text/html": [
              "\n",
              "  <div id=\"df-c6632261-d410-4391-acb2-a7a92ff3fbec\" class=\"colab-df-container\">\n",
              "    <div>\n",
              "<style scoped>\n",
              "    .dataframe tbody tr th:only-of-type {\n",
              "        vertical-align: middle;\n",
              "    }\n",
              "\n",
              "    .dataframe tbody tr th {\n",
              "        vertical-align: top;\n",
              "    }\n",
              "\n",
              "    .dataframe thead th {\n",
              "        text-align: right;\n",
              "    }\n",
              "</style>\n",
              "<table border=\"1\" class=\"dataframe\">\n",
              "  <thead>\n",
              "    <tr style=\"text-align: right;\">\n",
              "      <th></th>\n",
              "      <th>ID</th>\n",
              "      <th>ID_Texto</th>\n",
              "      <th>Nombre BD</th>\n",
              "      <th>Nombre Usuario</th>\n",
              "      <th>Tweet Original</th>\n",
              "      <th>Tweet Preprocesado</th>\n",
              "      <th>Tweet_Limpio</th>\n",
              "      <th>Sentimiento Score</th>\n",
              "      <th>Idioma</th>\n",
              "      <th>Retweet Count</th>\n",
              "      <th>Favorite_count</th>\n",
              "      <th>Followers_count</th>\n",
              "      <th>Friends_count</th>\n",
              "      <th>Listed_count</th>\n",
              "      <th>Favourites_count</th>\n",
              "      <th>Statuses_count</th>\n",
              "      <th>label</th>\n",
              "    </tr>\n",
              "  </thead>\n",
              "  <tbody>\n",
              "    <tr>\n",
              "      <th>0</th>\n",
              "      <td>110825732</td>\n",
              "      <td>110825732</td>\n",
              "      <td>Cantantes_Colombianos</td>\n",
              "      <td>Camilo</td>\n",
              "      <td>Gallo pinto en Costa Rica... y otras maneras d...</td>\n",
              "      <td>gallo pinto costa rica ... manera disfrutar vi...</td>\n",
              "      <td>gallo pinto costa rica  manera disfrutar vida</td>\n",
              "      <td>0.998737</td>\n",
              "      <td>es</td>\n",
              "      <td>177</td>\n",
              "      <td>4650</td>\n",
              "      <td>1735142</td>\n",
              "      <td>488</td>\n",
              "      <td>1442</td>\n",
              "      <td>3246</td>\n",
              "      <td>15649</td>\n",
              "      <td>2</td>\n",
              "    </tr>\n",
              "    <tr>\n",
              "      <th>1</th>\n",
              "      <td>110825732</td>\n",
              "      <td>110825732</td>\n",
              "      <td>Cantantes_Colombianos</td>\n",
              "      <td>Camilo</td>\n",
              "      <td>RT @rincondelatribu: La Tribu tiene casa, un h...</td>\n",
              "      <td>rt @rincondelatribu : tribu casa , hogar , ⛺ \\...</td>\n",
              "      <td>tribu casa  hogar</td>\n",
              "      <td>0.996282</td>\n",
              "      <td>es</td>\n",
              "      <td>44</td>\n",
              "      <td>0</td>\n",
              "      <td>1735142</td>\n",
              "      <td>488</td>\n",
              "      <td>1442</td>\n",
              "      <td>3246</td>\n",
              "      <td>15649</td>\n",
              "      <td>2</td>\n",
              "    </tr>\n",
              "    <tr>\n",
              "      <th>2</th>\n",
              "      <td>110825732</td>\n",
              "      <td>110825732</td>\n",
              "      <td>Cantantes_Colombianos</td>\n",
              "      <td>Camilo</td>\n",
              "      <td>Contando los días!! Ya quiero iiiiiiirrrrrr 🇧🇷...</td>\n",
              "      <td>contar ! ! querer iiiiiiirrrrrr 🇧 🇷 https://t....</td>\n",
              "      <td>contar   querer iiiiiiirrrrrr</td>\n",
              "      <td>0.998314</td>\n",
              "      <td>es</td>\n",
              "      <td>92</td>\n",
              "      <td>830</td>\n",
              "      <td>1735142</td>\n",
              "      <td>488</td>\n",
              "      <td>1442</td>\n",
              "      <td>3246</td>\n",
              "      <td>15649</td>\n",
              "      <td>1</td>\n",
              "    </tr>\n",
              "    <tr>\n",
              "      <th>3</th>\n",
              "      <td>110825732</td>\n",
              "      <td>110825732</td>\n",
              "      <td>Cantantes_Colombianos</td>\n",
              "      <td>Camilo</td>\n",
              "      <td>En el aeropuerto en Buenos Aires por salir a c...</td>\n",
              "      <td>aeropuerto aires salir bolivia ! ! 🇧 🇴 \\n diga...</td>\n",
              "      <td>aeropuerto aires salir bolivia      digan reco...</td>\n",
              "      <td>0.997631</td>\n",
              "      <td>es</td>\n",
              "      <td>26</td>\n",
              "      <td>396</td>\n",
              "      <td>1735142</td>\n",
              "      <td>488</td>\n",
              "      <td>1442</td>\n",
              "      <td>3246</td>\n",
              "      <td>15649</td>\n",
              "      <td>1</td>\n",
              "    </tr>\n",
              "    <tr>\n",
              "      <th>4</th>\n",
              "      <td>110825732</td>\n",
              "      <td>110825732</td>\n",
              "      <td>Cantantes_Colombianos</td>\n",
              "      <td>Camilo</td>\n",
              "      <td>Recorriendo el mundo con mi esposa y mi hija h...</td>\n",
              "      <td>recorrer mundo esposa hija amar . cambiar . .</td>\n",
              "      <td>recorrer mundo esposa hija amar  cambiar</td>\n",
              "      <td>0.595363</td>\n",
              "      <td>es</td>\n",
              "      <td>122</td>\n",
              "      <td>3286</td>\n",
              "      <td>1735142</td>\n",
              "      <td>488</td>\n",
              "      <td>1442</td>\n",
              "      <td>3246</td>\n",
              "      <td>15649</td>\n",
              "      <td>1</td>\n",
              "    </tr>\n",
              "  </tbody>\n",
              "</table>\n",
              "</div>\n",
              "    <div class=\"colab-df-buttons\">\n",
              "\n",
              "  <div class=\"colab-df-container\">\n",
              "    <button class=\"colab-df-convert\" onclick=\"convertToInteractive('df-c6632261-d410-4391-acb2-a7a92ff3fbec')\"\n",
              "            title=\"Convert this dataframe to an interactive table.\"\n",
              "            style=\"display:none;\">\n",
              "\n",
              "  <svg xmlns=\"http://www.w3.org/2000/svg\" height=\"24px\" viewBox=\"0 -960 960 960\">\n",
              "    <path d=\"M120-120v-720h720v720H120Zm60-500h600v-160H180v160Zm220 220h160v-160H400v160Zm0 220h160v-160H400v160ZM180-400h160v-160H180v160Zm440 0h160v-160H620v160ZM180-180h160v-160H180v160Zm440 0h160v-160H620v160Z\"/>\n",
              "  </svg>\n",
              "    </button>\n",
              "\n",
              "  <style>\n",
              "    .colab-df-container {\n",
              "      display:flex;\n",
              "      gap: 12px;\n",
              "    }\n",
              "\n",
              "    .colab-df-convert {\n",
              "      background-color: #E8F0FE;\n",
              "      border: none;\n",
              "      border-radius: 50%;\n",
              "      cursor: pointer;\n",
              "      display: none;\n",
              "      fill: #1967D2;\n",
              "      height: 32px;\n",
              "      padding: 0 0 0 0;\n",
              "      width: 32px;\n",
              "    }\n",
              "\n",
              "    .colab-df-convert:hover {\n",
              "      background-color: #E2EBFA;\n",
              "      box-shadow: 0px 1px 2px rgba(60, 64, 67, 0.3), 0px 1px 3px 1px rgba(60, 64, 67, 0.15);\n",
              "      fill: #174EA6;\n",
              "    }\n",
              "\n",
              "    .colab-df-buttons div {\n",
              "      margin-bottom: 4px;\n",
              "    }\n",
              "\n",
              "    [theme=dark] .colab-df-convert {\n",
              "      background-color: #3B4455;\n",
              "      fill: #D2E3FC;\n",
              "    }\n",
              "\n",
              "    [theme=dark] .colab-df-convert:hover {\n",
              "      background-color: #434B5C;\n",
              "      box-shadow: 0px 1px 3px 1px rgba(0, 0, 0, 0.15);\n",
              "      filter: drop-shadow(0px 1px 2px rgba(0, 0, 0, 0.3));\n",
              "      fill: #FFFFFF;\n",
              "    }\n",
              "  </style>\n",
              "\n",
              "    <script>\n",
              "      const buttonEl =\n",
              "        document.querySelector('#df-c6632261-d410-4391-acb2-a7a92ff3fbec button.colab-df-convert');\n",
              "      buttonEl.style.display =\n",
              "        google.colab.kernel.accessAllowed ? 'block' : 'none';\n",
              "\n",
              "      async function convertToInteractive(key) {\n",
              "        const element = document.querySelector('#df-c6632261-d410-4391-acb2-a7a92ff3fbec');\n",
              "        const dataTable =\n",
              "          await google.colab.kernel.invokeFunction('convertToInteractive',\n",
              "                                                    [key], {});\n",
              "        if (!dataTable) return;\n",
              "\n",
              "        const docLinkHtml = 'Like what you see? Visit the ' +\n",
              "          '<a target=\"_blank\" href=https://colab.research.google.com/notebooks/data_table.ipynb>data table notebook</a>'\n",
              "          + ' to learn more about interactive tables.';\n",
              "        element.innerHTML = '';\n",
              "        dataTable['output_type'] = 'display_data';\n",
              "        await google.colab.output.renderOutput(dataTable, element);\n",
              "        const docLink = document.createElement('div');\n",
              "        docLink.innerHTML = docLinkHtml;\n",
              "        element.appendChild(docLink);\n",
              "      }\n",
              "    </script>\n",
              "  </div>\n",
              "\n",
              "\n",
              "<div id=\"df-ee2288ca-bedd-4ddd-8c59-d53334b5660d\">\n",
              "  <button class=\"colab-df-quickchart\" onclick=\"quickchart('df-ee2288ca-bedd-4ddd-8c59-d53334b5660d')\"\n",
              "            title=\"Suggest charts.\"\n",
              "            style=\"display:none;\">\n",
              "\n",
              "<svg xmlns=\"http://www.w3.org/2000/svg\" height=\"24px\"viewBox=\"0 0 24 24\"\n",
              "     width=\"24px\">\n",
              "    <g>\n",
              "        <path d=\"M19 3H5c-1.1 0-2 .9-2 2v14c0 1.1.9 2 2 2h14c1.1 0 2-.9 2-2V5c0-1.1-.9-2-2-2zM9 17H7v-7h2v7zm4 0h-2V7h2v10zm4 0h-2v-4h2v4z\"/>\n",
              "    </g>\n",
              "</svg>\n",
              "  </button>\n",
              "\n",
              "<style>\n",
              "  .colab-df-quickchart {\n",
              "      --bg-color: #E8F0FE;\n",
              "      --fill-color: #1967D2;\n",
              "      --hover-bg-color: #E2EBFA;\n",
              "      --hover-fill-color: #174EA6;\n",
              "      --disabled-fill-color: #AAA;\n",
              "      --disabled-bg-color: #DDD;\n",
              "  }\n",
              "\n",
              "  [theme=dark] .colab-df-quickchart {\n",
              "      --bg-color: #3B4455;\n",
              "      --fill-color: #D2E3FC;\n",
              "      --hover-bg-color: #434B5C;\n",
              "      --hover-fill-color: #FFFFFF;\n",
              "      --disabled-bg-color: #3B4455;\n",
              "      --disabled-fill-color: #666;\n",
              "  }\n",
              "\n",
              "  .colab-df-quickchart {\n",
              "    background-color: var(--bg-color);\n",
              "    border: none;\n",
              "    border-radius: 50%;\n",
              "    cursor: pointer;\n",
              "    display: none;\n",
              "    fill: var(--fill-color);\n",
              "    height: 32px;\n",
              "    padding: 0;\n",
              "    width: 32px;\n",
              "  }\n",
              "\n",
              "  .colab-df-quickchart:hover {\n",
              "    background-color: var(--hover-bg-color);\n",
              "    box-shadow: 0 1px 2px rgba(60, 64, 67, 0.3), 0 1px 3px 1px rgba(60, 64, 67, 0.15);\n",
              "    fill: var(--button-hover-fill-color);\n",
              "  }\n",
              "\n",
              "  .colab-df-quickchart-complete:disabled,\n",
              "  .colab-df-quickchart-complete:disabled:hover {\n",
              "    background-color: var(--disabled-bg-color);\n",
              "    fill: var(--disabled-fill-color);\n",
              "    box-shadow: none;\n",
              "  }\n",
              "\n",
              "  .colab-df-spinner {\n",
              "    border: 2px solid var(--fill-color);\n",
              "    border-color: transparent;\n",
              "    border-bottom-color: var(--fill-color);\n",
              "    animation:\n",
              "      spin 1s steps(1) infinite;\n",
              "  }\n",
              "\n",
              "  @keyframes spin {\n",
              "    0% {\n",
              "      border-color: transparent;\n",
              "      border-bottom-color: var(--fill-color);\n",
              "      border-left-color: var(--fill-color);\n",
              "    }\n",
              "    20% {\n",
              "      border-color: transparent;\n",
              "      border-left-color: var(--fill-color);\n",
              "      border-top-color: var(--fill-color);\n",
              "    }\n",
              "    30% {\n",
              "      border-color: transparent;\n",
              "      border-left-color: var(--fill-color);\n",
              "      border-top-color: var(--fill-color);\n",
              "      border-right-color: var(--fill-color);\n",
              "    }\n",
              "    40% {\n",
              "      border-color: transparent;\n",
              "      border-right-color: var(--fill-color);\n",
              "      border-top-color: var(--fill-color);\n",
              "    }\n",
              "    60% {\n",
              "      border-color: transparent;\n",
              "      border-right-color: var(--fill-color);\n",
              "    }\n",
              "    80% {\n",
              "      border-color: transparent;\n",
              "      border-right-color: var(--fill-color);\n",
              "      border-bottom-color: var(--fill-color);\n",
              "    }\n",
              "    90% {\n",
              "      border-color: transparent;\n",
              "      border-bottom-color: var(--fill-color);\n",
              "    }\n",
              "  }\n",
              "</style>\n",
              "\n",
              "  <script>\n",
              "    async function quickchart(key) {\n",
              "      const quickchartButtonEl =\n",
              "        document.querySelector('#' + key + ' button');\n",
              "      quickchartButtonEl.disabled = true;  // To prevent multiple clicks.\n",
              "      quickchartButtonEl.classList.add('colab-df-spinner');\n",
              "      try {\n",
              "        const charts = await google.colab.kernel.invokeFunction(\n",
              "            'suggestCharts', [key], {});\n",
              "      } catch (error) {\n",
              "        console.error('Error during call to suggestCharts:', error);\n",
              "      }\n",
              "      quickchartButtonEl.classList.remove('colab-df-spinner');\n",
              "      quickchartButtonEl.classList.add('colab-df-quickchart-complete');\n",
              "    }\n",
              "    (() => {\n",
              "      let quickchartButtonEl =\n",
              "        document.querySelector('#df-ee2288ca-bedd-4ddd-8c59-d53334b5660d button');\n",
              "      quickchartButtonEl.style.display =\n",
              "        google.colab.kernel.accessAllowed ? 'block' : 'none';\n",
              "    })();\n",
              "  </script>\n",
              "</div>\n",
              "    </div>\n",
              "  </div>\n"
            ]
          },
          "metadata": {},
          "execution_count": 12
        }
      ]
    },
    {
      "cell_type": "code",
      "source": [
        "valores_unicos = df['label'].unique()\n",
        "print(valores_unicos)"
      ],
      "metadata": {
        "colab": {
          "base_uri": "https://localhost:8080/"
        },
        "id": "HqkGA7thQ7ja",
        "outputId": "f6484679-a08f-42fd-cc79-9e84e9ba1b67"
      },
      "execution_count": 13,
      "outputs": [
        {
          "output_type": "stream",
          "name": "stdout",
          "text": [
            "[2 1 0]\n"
          ]
        }
      ]
    },
    {
      "cell_type": "code",
      "metadata": {
        "id": "yEsKKezJVZEW",
        "colab": {
          "base_uri": "https://localhost:8080/",
          "height": 145,
          "referenced_widgets": [
            "6c1da81dac55477ea68cd6ed3e0ecea7",
            "a8a17a97260f4232afe284e20a4c45ab",
            "d2a9eefd13254d33bc63fbf89a133e02",
            "11d2c146a01840a7a5ee3addf085d166",
            "4d7d1e0bec1d480da84cb192f041662d",
            "7b3ac88d608b49f4a469a5aecf015751",
            "2301ca7c41de412d92edc81046ca1918",
            "2d69fe6a75dd4606a069ee9150d66124",
            "02db516e496a4389945dd7477af68e7f",
            "4e56959d68df4566bd64552c006fbdf4",
            "836dafc38e604e409f8356bf811414e0",
            "eadda3d8ff574567b1b4357727844be0",
            "b6c289317bc541e7a54d051b8efca463",
            "de1277d42f1140f6956c8d2ac266d00d",
            "472c72fa39594c9dbb2e2476bed90504",
            "017ae60768d04aca96f91bffe7435229",
            "a717e201cc5244b28871a2ef1b77dadd",
            "d64c74780e2540868124fb291e0020f6",
            "fb446b71ddfc489e96a25261337ca850",
            "a596d4eeb4b742089dd099d56bcae556",
            "89c550e0c7df49f99a89e73e61f5fe72",
            "ba30cea3344846c4931680da82a7f921",
            "ebbb0ec49e9741c68f5cac720da6f914",
            "775360430a3a4c51bedc0d3ff53ee196",
            "d0f5f02377564bd18db34017f135ffd5",
            "7e04fd2d22544a87bcdd305d2eac61b2",
            "198f057b6ddf44f4bc856a7f777e85dd",
            "690c93aa62574cd2a7ea2aa2d7b1112c",
            "8cf887a4349340109716bb702dc8d595",
            "d6825180dad3439d8c2208753363c043",
            "a1a9f8d35e48438a8528a9367f8a0562",
            "7a16ed1687d74645a62e7292addf3181",
            "3b04797c19884b90b41a439b328ff303",
            "c537e2a6a50948fbb1b02029601e68d7",
            "70b5848945df446dafab35c6d688d449",
            "cf0a4e10826a47d28a19f11fe105be5c",
            "8c2e86e18dae433884ba24cfc7f934c9",
            "ad8b8e2963e84fa4b4e3e477b84c8704",
            "86a035baa9be4e0ba8a27081dfb28c45",
            "d825d5adcf1c498ea179f2ded5bbcb8f",
            "b686145abda641f7bf720b7b881a61c1",
            "95ecbcea16934ee9bbee12f0157e013b",
            "edc3887320fd432e874b1257b931431e",
            "adcb010d03334d879df667bccb6ce7de"
          ]
        },
        "outputId": "6ed1342e-520e-4140-d755-7fa3537d1996"
      },
      "source": [
        "# TOKENIZACIÓN\n",
        "PRE_TRAINED_MODEL_NAME = 'dccuchile/bert-base-spanish-wwm-cased'\n",
        "tokenizer = BertTokenizer.from_pretrained(PRE_TRAINED_MODEL_NAME)"
      ],
      "execution_count": 14,
      "outputs": [
        {
          "output_type": "display_data",
          "data": {
            "text/plain": [
              "Downloading (…)solve/main/vocab.txt:   0%|          | 0.00/242k [00:00<?, ?B/s]"
            ],
            "application/vnd.jupyter.widget-view+json": {
              "version_major": 2,
              "version_minor": 0,
              "model_id": "6c1da81dac55477ea68cd6ed3e0ecea7"
            }
          },
          "metadata": {}
        },
        {
          "output_type": "display_data",
          "data": {
            "text/plain": [
              "Downloading (…)cial_tokens_map.json:   0%|          | 0.00/134 [00:00<?, ?B/s]"
            ],
            "application/vnd.jupyter.widget-view+json": {
              "version_major": 2,
              "version_minor": 0,
              "model_id": "eadda3d8ff574567b1b4357727844be0"
            }
          },
          "metadata": {}
        },
        {
          "output_type": "display_data",
          "data": {
            "text/plain": [
              "Downloading (…)okenizer_config.json:   0%|          | 0.00/364 [00:00<?, ?B/s]"
            ],
            "application/vnd.jupyter.widget-view+json": {
              "version_major": 2,
              "version_minor": 0,
              "model_id": "ebbb0ec49e9741c68f5cac720da6f914"
            }
          },
          "metadata": {}
        },
        {
          "output_type": "display_data",
          "data": {
            "text/plain": [
              "Downloading (…)lve/main/config.json:   0%|          | 0.00/648 [00:00<?, ?B/s]"
            ],
            "application/vnd.jupyter.widget-view+json": {
              "version_major": 2,
              "version_minor": 0,
              "model_id": "c537e2a6a50948fbb1b02029601e68d7"
            }
          },
          "metadata": {}
        }
      ]
    },
    {
      "cell_type": "code",
      "metadata": {
        "id": "LkNsk0GGWWW6",
        "colab": {
          "base_uri": "https://localhost:8080/"
        },
        "outputId": "7cd603ab-dee9-4722-a295-13e811993176"
      },
      "source": [
        "# Ejemplo tokenización\n",
        "sample_txt = 'Yo realmente amo este personaje!'\n",
        "tokens = tokenizer.tokenize(sample_txt)\n",
        "token_ids = tokenizer.convert_tokens_to_ids(tokens)\n",
        "print('Frase: ', sample_txt)\n",
        "print('Tokens: ', tokens)\n",
        "print('Tokens numéricos: ', token_ids) # Esta representación numérica viene del modelo preentrenado"
      ],
      "execution_count": 15,
      "outputs": [
        {
          "output_type": "stream",
          "name": "stdout",
          "text": [
            "Frase:  Yo realmente amo este personaje!\n",
            "Tokens:  ['Yo', 'realmente', 'amo', 'este', 'personaje', '!']\n",
            "Tokens numéricos:  [1584, 3189, 5114, 1365, 7646, 1127]\n"
          ]
        }
      ]
    },
    {
      "cell_type": "code",
      "metadata": {
        "id": "XDqgDsUqW0fO",
        "colab": {
          "base_uri": "https://localhost:8080/"
        },
        "outputId": "cf11a047-145d-4809-8291-4eaac79765c6"
      },
      "source": [
        "# Codificación para introducir a BERT, esto nos sirve para insttroducir los tokens especiales de BERT.\n",
        "encoding = tokenizer.encode_plus(\n",
        "    sample_txt,\n",
        "    max_length = 10,\n",
        "    truncation = True,\n",
        "    add_special_tokens = True, # Tokens de inicio CLS y tokens de separación SEP\n",
        "    return_token_type_ids = False,\n",
        "    pad_to_max_length = True,\n",
        "    return_attention_mask = True, # indica que se le preste atención a lo que hay dentro de los dos tokens especiales\n",
        "    return_tensors = 'pt'\n",
        ")"
      ],
      "execution_count": 16,
      "outputs": [
        {
          "output_type": "stream",
          "name": "stderr",
          "text": [
            "/usr/local/lib/python3.10/dist-packages/transformers/tokenization_utils_base.py:2418: FutureWarning: The `pad_to_max_length` argument is deprecated and will be removed in a future version, use `padding=True` or `padding='longest'` to pad to the longest sequence in the batch, or use `padding='max_length'` to pad to a max length. In this case, you can give a specific length with `max_length` (e.g. `max_length=45`) or leave max_length to None to pad to the maximal input size of the model (e.g. 512 for Bert).\n",
            "  warnings.warn(\n"
          ]
        }
      ]
    },
    {
      "cell_type": "code",
      "metadata": {
        "id": "QfE50cS2X8uu",
        "colab": {
          "base_uri": "https://localhost:8080/"
        },
        "outputId": "fe507201-a71a-4106-b104-2920724e0e0c"
      },
      "source": [
        "encoding.keys()"
      ],
      "execution_count": 17,
      "outputs": [
        {
          "output_type": "execute_result",
          "data": {
            "text/plain": [
              "dict_keys(['input_ids', 'attention_mask'])"
            ]
          },
          "metadata": {},
          "execution_count": 17
        }
      ]
    },
    {
      "cell_type": "code",
      "metadata": {
        "id": "er5DlrQ9X-mG",
        "colab": {
          "base_uri": "https://localhost:8080/"
        },
        "outputId": "a0b57439-94d3-4d04-f0b2-77f0f701935c"
      },
      "source": [
        "print(tokenizer.convert_ids_to_tokens(encoding['input_ids'][0]))\n",
        "print(encoding['input_ids'][0])\n",
        "print(encoding['attention_mask'][0])"
      ],
      "execution_count": 18,
      "outputs": [
        {
          "output_type": "stream",
          "name": "stdout",
          "text": [
            "['[CLS]', 'Yo', 'realmente', 'amo', 'este', 'personaje', '!', '[SEP]', '[PAD]', '[PAD]']\n",
            "tensor([   4, 1584, 3189, 5114, 1365, 7646, 1127,    5,    1,    1])\n",
            "tensor([1, 1, 1, 1, 1, 1, 1, 1, 0, 0])\n"
          ]
        }
      ]
    },
    {
      "cell_type": "code",
      "metadata": {
        "id": "pqv-DZtzYQhm"
      },
      "source": [
        "# CREACIÓN DATASET\n",
        "\n",
        "class ASMDataset(Dataset):\n",
        "\n",
        "  def __init__(self,tweets,labels,tokenizer,max_len):\n",
        "    self.tweets = tweets\n",
        "    self.labels = labels\n",
        "    self.tokenizer = tokenizer\n",
        "    self.max_len = max_len\n",
        "\n",
        "  def __len__(self):\n",
        "      return len(self.tweets)\n",
        "\n",
        "  def __getitem__(self, item):\n",
        "    Tweet_Limpio = str(self.tweets[item])\n",
        "    label = self.labels[item]\n",
        "    encoding = tokenizer.encode_plus(\n",
        "        Tweet_Limpio,\n",
        "        max_length = self.max_len,\n",
        "        truncation = True,\n",
        "        add_special_tokens = True,\n",
        "        return_token_type_ids = False,\n",
        "        pad_to_max_length = True,\n",
        "        return_attention_mask = True,\n",
        "        return_tensors = 'pt'\n",
        "        )\n",
        "\n",
        "\n",
        "    return {\n",
        "          'tweet': Tweet_Limpio,\n",
        "          'input_ids': encoding['input_ids'].flatten(),\n",
        "          'attention_mask': encoding['attention_mask'].flatten(),\n",
        "          'label': torch.tensor(label, dtype=torch.long)\n",
        "      }"
      ],
      "execution_count": 19,
      "outputs": []
    },
    {
      "cell_type": "code",
      "metadata": {
        "id": "NaYe0FsoaNAv"
      },
      "source": [
        "# Data loader:\n",
        "\n",
        "def data_loader(df, tokenizer, max_len, batch_size):\n",
        "  dataset = ASMDataset(\n",
        "      tweets = df.Tweet_Limpio.to_numpy(),\n",
        "      labels = df.label.to_numpy(),\n",
        "      tokenizer = tokenizer,\n",
        "      max_len = MAX_LEN\n",
        "  )\n",
        "\n",
        "  return DataLoader(dataset, batch_size = BATCH_SIZE, num_workers = 4)\n",
        "  # workers cambiado de 4 a 2"
      ],
      "execution_count": 20,
      "outputs": []
    },
    {
      "cell_type": "code",
      "metadata": {
        "id": "m9rNI4Tsa5MZ",
        "colab": {
          "base_uri": "https://localhost:8080/"
        },
        "outputId": "fab49f2e-10ac-46e7-b1c6-35de0f09f8d9"
      },
      "source": [
        "# Dividimos nuestro set de datos\n",
        "\n",
        "df_train, df_test = train_test_split(df, test_size = 0.2, random_state=RANDOM_SEED)\n",
        "\n",
        "train_data_loader = data_loader(df_train, tokenizer, MAX_LEN, BATCH_SIZE)\n",
        "test_data_loader = data_loader(df_test, tokenizer, MAX_LEN, BATCH_SIZE)"
      ],
      "execution_count": 21,
      "outputs": [
        {
          "output_type": "stream",
          "name": "stderr",
          "text": [
            "/usr/local/lib/python3.10/dist-packages/torch/utils/data/dataloader.py:560: UserWarning: This DataLoader will create 4 worker processes in total. Our suggested max number of worker in current system is 2, which is smaller than what this DataLoader is going to create. Please be aware that excessive worker creation might get DataLoader running slow or even freeze, lower the worker number to avoid potential slowness/freeze if necessary.\n",
            "  warnings.warn(_create_warning_msg(\n"
          ]
        }
      ]
    },
    {
      "cell_type": "code",
      "metadata": {
        "id": "VOnca-sVbhPX"
      },
      "source": [
        "# Construimos el modelo - Red Neuronal\n",
        "\n",
        "class BERTSentimentClassifier(nn.Module):\n",
        "\n",
        "  def __init__(self, n_classes):\n",
        "    super(BERTSentimentClassifier, self).__init__()  # Inicializamos la clase\n",
        "    self.bert = BertModel.from_pretrained(PRE_TRAINED_MODEL_NAME,return_dict=False) # Cargar el modelo preentrenado\n",
        "    self.drop = nn.Dropout(p=0.3) # Capa adicional para evitar el overfiting, apagar aleatoriamente en cada iteración el 30% de las neuronas, para hacer el modelo más robusto\n",
        "    self.linear = nn.Linear(self.bert.config.hidden_size, n_classes) # Capa\n",
        "\n",
        "  def forward(self, input_ids, attention_mask): # Cómo están conectadas las capas y en qué orden deben pasar\n",
        "    _, cls_output = self.bert(\n",
        "        input_ids = input_ids,\n",
        "        attention_mask = attention_mask\n",
        "    )\n",
        "    drop_output = self.drop(cls_output) # Pasamos el token de clasificación\n",
        "    output = self.linear(drop_output) # Tomar la red neuronal y tomar lo que esté en la salidad del drop_output\n",
        "    return output\n"
      ],
      "execution_count": 22,
      "outputs": []
    },
    {
      "cell_type": "code",
      "metadata": {
        "id": "CanuNncKdXaF",
        "colab": {
          "base_uri": "https://localhost:8080/",
          "height": 84,
          "referenced_widgets": [
            "538d2627b6414adfa1e28d89fe25de60",
            "c4bede5c44db43d98aac5c1ca490af1c",
            "75923e0d1e984f96872dcebcec9b0c44",
            "c866f9840f82402fb31fa091214e7cb3",
            "86c61d28431b4fa580aebf7de32305d9",
            "622ed53ae08b44619575c62f7448256d",
            "f6654c41b20f478fa2986c86dd84f038",
            "c2f6085f6a554c7ab913246bda06304b",
            "f094088fa5ca454b8dc22fbfbd205fcc",
            "21ef593956514322a22cee6521db9b12",
            "ef5c99f84c2f46aab1239bb8a558fe66"
          ]
        },
        "outputId": "2f951a73-6c7b-4d6c-9b5e-98d04fffde06"
      },
      "source": [
        "model = BERTSentimentClassifier(NCLASSES)\n",
        "model = model.to(device)"
      ],
      "execution_count": 23,
      "outputs": [
        {
          "output_type": "display_data",
          "data": {
            "text/plain": [
              "Downloading pytorch_model.bin:   0%|          | 0.00/440M [00:00<?, ?B/s]"
            ],
            "application/vnd.jupyter.widget-view+json": {
              "version_major": 2,
              "version_minor": 0,
              "model_id": "538d2627b6414adfa1e28d89fe25de60"
            }
          },
          "metadata": {}
        },
        {
          "output_type": "stream",
          "name": "stderr",
          "text": [
            "Some weights of BertModel were not initialized from the model checkpoint at dccuchile/bert-base-spanish-wwm-cased and are newly initialized: ['bert.pooler.dense.weight', 'bert.pooler.dense.bias']\n",
            "You should probably TRAIN this model on a down-stream task to be able to use it for predictions and inference.\n"
          ]
        }
      ]
    },
    {
      "cell_type": "code",
      "metadata": {
        "id": "S6-VlpvidgLp"
      },
      "source": [
        "#print(model)\n"
      ],
      "execution_count": 24,
      "outputs": []
    },
    {
      "cell_type": "code",
      "metadata": {
        "id": "Mansb6pfdn_H",
        "colab": {
          "base_uri": "https://localhost:8080/"
        },
        "outputId": "290306cb-dc12-4a9a-8ef3-d5407481eea0"
      },
      "source": [
        "# Entrenamiento del modelo\n",
        "EPOCHS = 5 # Iteraciones de entrenamiento\n",
        "optimizer = AdamW(model.parameters(), lr=2e-5, correct_bias=False)\n",
        "total_steps = len(train_data_loader) * EPOCHS # Número total de iteraciones de entrenamiento\n",
        "scheduler = get_linear_schedule_with_warmup(\n",
        "    optimizer,\n",
        "    num_warmup_steps = 0, # Cuántas iteraciones espera para empesar a reducir la tasa de aprendizaje\n",
        "    num_training_steps = total_steps  # Npumero total de pasos de entrenamiento\n",
        ")\n",
        "loss_fn = nn.CrossEntropyLoss().to(device)"
      ],
      "execution_count": 25,
      "outputs": [
        {
          "output_type": "stream",
          "name": "stderr",
          "text": [
            "/usr/local/lib/python3.10/dist-packages/transformers/optimization.py:411: FutureWarning: This implementation of AdamW is deprecated and will be removed in a future version. Use the PyTorch implementation torch.optim.AdamW instead, or set `no_deprecation_warning=True` to disable this warning\n",
            "  warnings.warn(\n"
          ]
        }
      ]
    },
    {
      "cell_type": "code",
      "metadata": {
        "id": "ihoNOG0Zeuhz"
      },
      "source": [
        "# Iteración de entrenamiento\n",
        "def train_model(model, data_loader, loss_fn, optimizer, device, scheduler, n_examples):\n",
        "  model = model.train()\n",
        "  losses = [] # Para almacenar el valor del error\n",
        "  correct_predictions = 0 # Precisión en 0\n",
        "  for batch in data_loader:\n",
        "    input_ids = batch['input_ids'].to(device) # Tomamos los tweets\n",
        "    attention_mask = batch['attention_mask'].to(device)\n",
        "    labels = batch['label'].to(device) # Tomamos las etiquetas\n",
        "    outputs = model(input_ids = input_ids, attention_mask = attention_mask)\n",
        "    _, preds = torch.max(outputs, dim=1) # Calcular las predicciones, sería la máxima que encuentre\n",
        "    loss = loss_fn(outputs, labels) # Calcular la pérdida, introduciendo la salida y la etiqueta original\n",
        "    correct_predictions += torch.sum(preds == labels) # Calcular la precisión\n",
        "    losses.append(loss.item())\n",
        "    loss.backward()\n",
        "    nn.utils.clip_grad_norm_(model.parameters(), max_norm=1.0) # Evitar que el gradiente crezca demasiado (Gradiente desendente), para evitar que el entrenamiento se estanque\n",
        "    optimizer.step()\n",
        "    scheduler.step()\n",
        "    optimizer.zero_grad()\n",
        "  return correct_predictions.double()/n_examples, np.mean(losses) # Devuelve el valor de la precisión y el valor promedio del error\n",
        "\n",
        "def eval_model(model, data_loader, loss_fn, device, n_examples):\n",
        "  model = model.eval() # Poner el modelo en modo evaluación\n",
        "  losses = [] # Calcular una pérdida\n",
        "  correct_predictions = 0 # Calcular la precisión del modelo con los datos de validación\n",
        "  with torch.no_grad():\n",
        "    for batch in data_loader:\n",
        "      input_ids = batch['input_ids'].to(device)\n",
        "      attention_mask = batch['attention_mask'].to(device)\n",
        "      labels = batch['label'].to(device)\n",
        "      outputs = model(input_ids = input_ids, attention_mask = attention_mask)\n",
        "      _, preds = torch.max(outputs, dim=1)\n",
        "      loss = loss_fn(outputs, labels)\n",
        "      correct_predictions += torch.sum(preds == labels)\n",
        "      losses.append(loss.item()) # almacene el valor del error\n",
        "  return correct_predictions.double()/n_examples, np.mean(losses)"
      ],
      "execution_count": 26,
      "outputs": []
    },
    {
      "cell_type": "code",
      "metadata": {
        "id": "y0aJRM-ZiXtp",
        "colab": {
          "base_uri": "https://localhost:8080/"
        },
        "outputId": "93a7ecc4-8c1f-416e-ace4-589b54d537c9"
      },
      "source": [
        "# Entrenamiento\n",
        "\n",
        "for epoch in range(EPOCHS):\n",
        "  print('Epoch {} de {}'.format(epoch+1, EPOCHS))\n",
        "  print('------------------')\n",
        "  train_acc, train_loss = train_model(\n",
        "      model, train_data_loader, loss_fn, optimizer, device, scheduler, len(df_train)\n",
        "  )\n",
        "  test_acc, test_loss = eval_model(\n",
        "      model, test_data_loader, loss_fn, device, len(df_test)\n",
        "  )\n",
        "  print('Entrenamiento: Loss: {}, accuracy: {}'.format(train_loss, train_acc))\n",
        "  print('Validación: Loss: {}, accuracy: {}'.format(test_loss, test_acc))\n",
        "  print('')"
      ],
      "execution_count": 27,
      "outputs": [
        {
          "output_type": "stream",
          "name": "stdout",
          "text": [
            "Epoch 1 de 5\n",
            "------------------\n",
            "Entrenamiento: Loss: 0.5884932608403746, accuracy: 0.7825703115146928\n",
            "Validación: Loss: 0.42586949557786985, accuracy: 0.8320726172465961\n",
            "\n",
            "Epoch 2 de 5\n",
            "------------------\n",
            "Entrenamiento: Loss: 0.36272920111584805, accuracy: 0.8697187539412283\n",
            "Validación: Loss: 0.4271221029301805, accuracy: 0.8426626323751892\n",
            "\n",
            "Epoch 3 de 5\n",
            "------------------\n",
            "Entrenamiento: Loss: 0.2447693409264884, accuracy: 0.9166351368394501\n",
            "Validación: Loss: 0.47860509818870456, accuracy: 0.8577912254160364\n",
            "\n",
            "Epoch 4 de 5\n",
            "------------------\n",
            "Entrenamiento: Loss: 0.16022050102906032, accuracy: 0.9563627191322991\n",
            "Validación: Loss: 0.624308853958463, accuracy: 0.859808371154816\n",
            "\n",
            "Epoch 5 de 5\n",
            "------------------\n",
            "Entrenamiento: Loss: 0.1335509858763544, accuracy: 0.9677134569302559\n",
            "Validación: Loss: 0.6617854488393923, accuracy: 0.8577912254160364\n",
            "\n"
          ]
        }
      ]
    },
    {
      "cell_type": "code",
      "metadata": {
        "id": "QTG7YKnVjDA-"
      },
      "source": [
        "def classifySentiment(tweet_text):\n",
        "  encoding_tweet = tokenizer.encode_plus(\n",
        "      tweet_text,\n",
        "      max_length = MAX_LEN,\n",
        "      truncation = True,\n",
        "      add_special_tokens = True,\n",
        "      return_token_type_ids = False,\n",
        "      pad_to_max_length = True,\n",
        "      return_attention_mask = True,\n",
        "      return_tensors = 'pt'\n",
        "      )\n",
        "\n",
        "  input_ids = encoding_tweet['input_ids'].to(device)\n",
        "  attention_mask = encoding_tweet['attention_mask'].to(device)\n",
        "  output = model(input_ids, attention_mask)\n",
        "  _, prediction = torch.max(output, dim=1)\n",
        "  print(\"\\n\".join(wrap(tweet_text)))\n",
        "\n",
        "  if prediction == 1:\n",
        "    print('Sentimiento predicho: Neutro')\n",
        "  elif prediction == 2:\n",
        "    print('Sentimiento predicho: Positivo')\n",
        "  elif prediction == 0:\n",
        "    print('Sentimiento predicho: Negativo')\n",
        "  else:\n",
        "    print('Valor de predicción no válido')\n"
      ],
      "execution_count": 28,
      "outputs": []
    },
    {
      "cell_type": "code",
      "metadata": {
        "id": "oe0im1_alf4K",
        "colab": {
          "base_uri": "https://localhost:8080/"
        },
        "outputId": "a10348f3-3862-459d-aa69-64df8768a646"
      },
      "source": [
        "review_text = \"Hoy es un día maravilloso para disfrutar del sol y la playa.\"\n",
        "\n",
        "classifySentiment(review_text)"
      ],
      "execution_count": 29,
      "outputs": [
        {
          "output_type": "stream",
          "name": "stdout",
          "text": [
            "Hoy es un día maravilloso para disfrutar del sol y la playa.\n",
            "Sentimiento predicho: Positivo\n"
          ]
        }
      ]
    },
    {
      "cell_type": "code",
      "metadata": {
        "id": "rNlHECVBuDXJ",
        "colab": {
          "base_uri": "https://localhost:8080/"
        },
        "outputId": "e3c75f9a-ea9e-45c6-b457-c48962a7cd06"
      },
      "source": [
        "review_text=\"El día de la boda fue tan emocionante que me hizo llorar\"\n",
        "classifySentiment(review_text)"
      ],
      "execution_count": 30,
      "outputs": [
        {
          "output_type": "stream",
          "name": "stdout",
          "text": [
            "El día de la boda fue tan emocionante que me hizo llorar\n",
            "Sentimiento predicho: Positivo\n"
          ]
        }
      ]
    },
    {
      "cell_type": "code",
      "source": [
        "review_text=\"Aunque llovió durante todo el picnic, aún así disfrutamos.\"\n",
        "classifySentiment(review_text)"
      ],
      "metadata": {
        "id": "D8e0mPKqhVvT",
        "colab": {
          "base_uri": "https://localhost:8080/"
        },
        "outputId": "5fbfa0b6-da63-4712-a4c0-9ad73f6e6950"
      },
      "execution_count": 31,
      "outputs": [
        {
          "output_type": "stream",
          "name": "stdout",
          "text": [
            "Aunque llovió durante todo el picnic, aún así disfrutamos.\n",
            "Sentimiento predicho: Positivo\n"
          ]
        }
      ]
    },
    {
      "cell_type": "code",
      "source": [
        "review_text=\"El informe que entregué hoy fue aceptado sin problemas\"\n",
        "classifySentiment(review_text)"
      ],
      "metadata": {
        "id": "DTYZsG-xhiKK",
        "colab": {
          "base_uri": "https://localhost:8080/"
        },
        "outputId": "2efd607e-216c-4147-a8f8-73f55e31ade3"
      },
      "execution_count": 32,
      "outputs": [
        {
          "output_type": "stream",
          "name": "stdout",
          "text": [
            "El informe que entregué hoy fue aceptado sin problemas\n",
            "Sentimiento predicho: Neutro\n"
          ]
        }
      ]
    },
    {
      "cell_type": "code",
      "source": [
        "review_text=\"Estuve todo el día en casa trabajando en mi proyecto\"\n",
        "classifySentiment(review_text)\n",
        "\n"
      ],
      "metadata": {
        "id": "_S4EH7qUiIg2",
        "colab": {
          "base_uri": "https://localhost:8080/"
        },
        "outputId": "0a2e2c6b-3521-48f2-8424-32ee1ef5bd17"
      },
      "execution_count": 33,
      "outputs": [
        {
          "output_type": "stream",
          "name": "stdout",
          "text": [
            "Estuve todo el día en casa trabajando en mi proyecto\n",
            "Sentimiento predicho: Neutro\n"
          ]
        }
      ]
    },
    {
      "cell_type": "code",
      "source": [
        "df_train.head()"
      ],
      "metadata": {
        "colab": {
          "base_uri": "https://localhost:8080/",
          "height": 382
        },
        "id": "7VVU60-2L4I_",
        "outputId": "96e83060-5a53-4b6e-eef4-a16e051e8688"
      },
      "execution_count": 35,
      "outputs": [
        {
          "output_type": "execute_result",
          "data": {
            "text/plain": [
              "             ID   ID_Texto              Nombre BD  Nombre Usuario  \\\n",
              "9223   44670915   44670915  Cantantes_Colombianos        J BALVIN   \n",
              "8702   44670915   44670915  Cantantes_Colombianos        J BALVIN   \n",
              "8492   44670915   44670915  Cantantes_Colombianos        J BALVIN   \n",
              "7866  323976919  323976919  Cantantes_Colombianos  Greeicy Rendon   \n",
              "4437   45580261   45580261  Cantantes_Colombianos         Fonseca   \n",
              "\n",
              "                                         Tweet Original  \\\n",
              "9223  Es nuestra responsabilidad estar en casa y cui...   \n",
              "8702  Jose por J Balvin \\nhttps://t.co/erTKLPRcWc ht...   \n",
              "8492          Que Locura ⚡️⚡️⚡️ https://t.co/qs4qOSlxnn   \n",
              "7866           Abuelo @rafataibo http://t.co/vXMmIAlC0Y   \n",
              "4437  @ManoloCardona A mi también por favor que no e...   \n",
              "\n",
              "                                     Tweet Preprocesado  \\\n",
              "9223          responsabilidad casa cuidarno .   pasar .   \n",
              "8702  jose j balvin \\n https://t.co/ertklprcwc https...   \n",
              "8492         locura ⚡ ️ ⚡ ️ ⚡ ️ https://t.co/qs4qoslxnn   \n",
              "7866           abuelo @rafataibo http://t.co/vxmmialc0y   \n",
              "4437                  @manolocardón favor entender … ..   \n",
              "\n",
              "                                 Tweet_Limpio  Sentimiento Score Idioma  \\\n",
              "9223  responsabilidad casa cuidarno    pasar            0.920552     es   \n",
              "8702                         jose j balvin              0.997043     en   \n",
              "8492                            locura                  0.967180     es   \n",
              "7866                                 abuelo             0.976709     es   \n",
              "4437                         favor entender             0.998575     es   \n",
              "\n",
              "      Retweet Count  Favorite_count  Followers_count  Friends_count  \\\n",
              "9223           6920           39298         10820447            542   \n",
              "8702            237            4625         10820447            542   \n",
              "8492             91            1439         10820447            542   \n",
              "7866              1               1           478258            210   \n",
              "4437              2              47          4126980            987   \n",
              "\n",
              "      Listed_count  Favourites_count  Statuses_count  label  \n",
              "9223          7238               770           31734      1  \n",
              "8702          7238               770           31734      1  \n",
              "8492          7238               770           31734      0  \n",
              "7866           261               270            4514      1  \n",
              "4437          6205             11768           19484      1  "
            ],
            "text/html": [
              "\n",
              "  <div id=\"df-65adbc62-7f26-4161-9380-7a42e3fad26f\" class=\"colab-df-container\">\n",
              "    <div>\n",
              "<style scoped>\n",
              "    .dataframe tbody tr th:only-of-type {\n",
              "        vertical-align: middle;\n",
              "    }\n",
              "\n",
              "    .dataframe tbody tr th {\n",
              "        vertical-align: top;\n",
              "    }\n",
              "\n",
              "    .dataframe thead th {\n",
              "        text-align: right;\n",
              "    }\n",
              "</style>\n",
              "<table border=\"1\" class=\"dataframe\">\n",
              "  <thead>\n",
              "    <tr style=\"text-align: right;\">\n",
              "      <th></th>\n",
              "      <th>ID</th>\n",
              "      <th>ID_Texto</th>\n",
              "      <th>Nombre BD</th>\n",
              "      <th>Nombre Usuario</th>\n",
              "      <th>Tweet Original</th>\n",
              "      <th>Tweet Preprocesado</th>\n",
              "      <th>Tweet_Limpio</th>\n",
              "      <th>Sentimiento Score</th>\n",
              "      <th>Idioma</th>\n",
              "      <th>Retweet Count</th>\n",
              "      <th>Favorite_count</th>\n",
              "      <th>Followers_count</th>\n",
              "      <th>Friends_count</th>\n",
              "      <th>Listed_count</th>\n",
              "      <th>Favourites_count</th>\n",
              "      <th>Statuses_count</th>\n",
              "      <th>label</th>\n",
              "    </tr>\n",
              "  </thead>\n",
              "  <tbody>\n",
              "    <tr>\n",
              "      <th>9223</th>\n",
              "      <td>44670915</td>\n",
              "      <td>44670915</td>\n",
              "      <td>Cantantes_Colombianos</td>\n",
              "      <td>J BALVIN</td>\n",
              "      <td>Es nuestra responsabilidad estar en casa y cui...</td>\n",
              "      <td>responsabilidad casa cuidarno .   pasar .</td>\n",
              "      <td>responsabilidad casa cuidarno    pasar</td>\n",
              "      <td>0.920552</td>\n",
              "      <td>es</td>\n",
              "      <td>6920</td>\n",
              "      <td>39298</td>\n",
              "      <td>10820447</td>\n",
              "      <td>542</td>\n",
              "      <td>7238</td>\n",
              "      <td>770</td>\n",
              "      <td>31734</td>\n",
              "      <td>1</td>\n",
              "    </tr>\n",
              "    <tr>\n",
              "      <th>8702</th>\n",
              "      <td>44670915</td>\n",
              "      <td>44670915</td>\n",
              "      <td>Cantantes_Colombianos</td>\n",
              "      <td>J BALVIN</td>\n",
              "      <td>Jose por J Balvin \\nhttps://t.co/erTKLPRcWc ht...</td>\n",
              "      <td>jose j balvin \\n https://t.co/ertklprcwc https...</td>\n",
              "      <td>jose j balvin</td>\n",
              "      <td>0.997043</td>\n",
              "      <td>en</td>\n",
              "      <td>237</td>\n",
              "      <td>4625</td>\n",
              "      <td>10820447</td>\n",
              "      <td>542</td>\n",
              "      <td>7238</td>\n",
              "      <td>770</td>\n",
              "      <td>31734</td>\n",
              "      <td>1</td>\n",
              "    </tr>\n",
              "    <tr>\n",
              "      <th>8492</th>\n",
              "      <td>44670915</td>\n",
              "      <td>44670915</td>\n",
              "      <td>Cantantes_Colombianos</td>\n",
              "      <td>J BALVIN</td>\n",
              "      <td>Que Locura ⚡️⚡️⚡️ https://t.co/qs4qOSlxnn</td>\n",
              "      <td>locura ⚡ ️ ⚡ ️ ⚡ ️ https://t.co/qs4qoslxnn</td>\n",
              "      <td>locura</td>\n",
              "      <td>0.967180</td>\n",
              "      <td>es</td>\n",
              "      <td>91</td>\n",
              "      <td>1439</td>\n",
              "      <td>10820447</td>\n",
              "      <td>542</td>\n",
              "      <td>7238</td>\n",
              "      <td>770</td>\n",
              "      <td>31734</td>\n",
              "      <td>0</td>\n",
              "    </tr>\n",
              "    <tr>\n",
              "      <th>7866</th>\n",
              "      <td>323976919</td>\n",
              "      <td>323976919</td>\n",
              "      <td>Cantantes_Colombianos</td>\n",
              "      <td>Greeicy Rendon</td>\n",
              "      <td>Abuelo @rafataibo http://t.co/vXMmIAlC0Y</td>\n",
              "      <td>abuelo @rafataibo http://t.co/vxmmialc0y</td>\n",
              "      <td>abuelo</td>\n",
              "      <td>0.976709</td>\n",
              "      <td>es</td>\n",
              "      <td>1</td>\n",
              "      <td>1</td>\n",
              "      <td>478258</td>\n",
              "      <td>210</td>\n",
              "      <td>261</td>\n",
              "      <td>270</td>\n",
              "      <td>4514</td>\n",
              "      <td>1</td>\n",
              "    </tr>\n",
              "    <tr>\n",
              "      <th>4437</th>\n",
              "      <td>45580261</td>\n",
              "      <td>45580261</td>\n",
              "      <td>Cantantes_Colombianos</td>\n",
              "      <td>Fonseca</td>\n",
              "      <td>@ManoloCardona A mi también por favor que no e...</td>\n",
              "      <td>@manolocardón favor entender … ..</td>\n",
              "      <td>favor entender</td>\n",
              "      <td>0.998575</td>\n",
              "      <td>es</td>\n",
              "      <td>2</td>\n",
              "      <td>47</td>\n",
              "      <td>4126980</td>\n",
              "      <td>987</td>\n",
              "      <td>6205</td>\n",
              "      <td>11768</td>\n",
              "      <td>19484</td>\n",
              "      <td>1</td>\n",
              "    </tr>\n",
              "  </tbody>\n",
              "</table>\n",
              "</div>\n",
              "    <div class=\"colab-df-buttons\">\n",
              "\n",
              "  <div class=\"colab-df-container\">\n",
              "    <button class=\"colab-df-convert\" onclick=\"convertToInteractive('df-65adbc62-7f26-4161-9380-7a42e3fad26f')\"\n",
              "            title=\"Convert this dataframe to an interactive table.\"\n",
              "            style=\"display:none;\">\n",
              "\n",
              "  <svg xmlns=\"http://www.w3.org/2000/svg\" height=\"24px\" viewBox=\"0 -960 960 960\">\n",
              "    <path d=\"M120-120v-720h720v720H120Zm60-500h600v-160H180v160Zm220 220h160v-160H400v160Zm0 220h160v-160H400v160ZM180-400h160v-160H180v160Zm440 0h160v-160H620v160ZM180-180h160v-160H180v160Zm440 0h160v-160H620v160Z\"/>\n",
              "  </svg>\n",
              "    </button>\n",
              "\n",
              "  <style>\n",
              "    .colab-df-container {\n",
              "      display:flex;\n",
              "      gap: 12px;\n",
              "    }\n",
              "\n",
              "    .colab-df-convert {\n",
              "      background-color: #E8F0FE;\n",
              "      border: none;\n",
              "      border-radius: 50%;\n",
              "      cursor: pointer;\n",
              "      display: none;\n",
              "      fill: #1967D2;\n",
              "      height: 32px;\n",
              "      padding: 0 0 0 0;\n",
              "      width: 32px;\n",
              "    }\n",
              "\n",
              "    .colab-df-convert:hover {\n",
              "      background-color: #E2EBFA;\n",
              "      box-shadow: 0px 1px 2px rgba(60, 64, 67, 0.3), 0px 1px 3px 1px rgba(60, 64, 67, 0.15);\n",
              "      fill: #174EA6;\n",
              "    }\n",
              "\n",
              "    .colab-df-buttons div {\n",
              "      margin-bottom: 4px;\n",
              "    }\n",
              "\n",
              "    [theme=dark] .colab-df-convert {\n",
              "      background-color: #3B4455;\n",
              "      fill: #D2E3FC;\n",
              "    }\n",
              "\n",
              "    [theme=dark] .colab-df-convert:hover {\n",
              "      background-color: #434B5C;\n",
              "      box-shadow: 0px 1px 3px 1px rgba(0, 0, 0, 0.15);\n",
              "      filter: drop-shadow(0px 1px 2px rgba(0, 0, 0, 0.3));\n",
              "      fill: #FFFFFF;\n",
              "    }\n",
              "  </style>\n",
              "\n",
              "    <script>\n",
              "      const buttonEl =\n",
              "        document.querySelector('#df-65adbc62-7f26-4161-9380-7a42e3fad26f button.colab-df-convert');\n",
              "      buttonEl.style.display =\n",
              "        google.colab.kernel.accessAllowed ? 'block' : 'none';\n",
              "\n",
              "      async function convertToInteractive(key) {\n",
              "        const element = document.querySelector('#df-65adbc62-7f26-4161-9380-7a42e3fad26f');\n",
              "        const dataTable =\n",
              "          await google.colab.kernel.invokeFunction('convertToInteractive',\n",
              "                                                    [key], {});\n",
              "        if (!dataTable) return;\n",
              "\n",
              "        const docLinkHtml = 'Like what you see? Visit the ' +\n",
              "          '<a target=\"_blank\" href=https://colab.research.google.com/notebooks/data_table.ipynb>data table notebook</a>'\n",
              "          + ' to learn more about interactive tables.';\n",
              "        element.innerHTML = '';\n",
              "        dataTable['output_type'] = 'display_data';\n",
              "        await google.colab.output.renderOutput(dataTable, element);\n",
              "        const docLink = document.createElement('div');\n",
              "        docLink.innerHTML = docLinkHtml;\n",
              "        element.appendChild(docLink);\n",
              "      }\n",
              "    </script>\n",
              "  </div>\n",
              "\n",
              "\n",
              "<div id=\"df-f56db2a7-aef8-4b2f-9003-31bc4e59c173\">\n",
              "  <button class=\"colab-df-quickchart\" onclick=\"quickchart('df-f56db2a7-aef8-4b2f-9003-31bc4e59c173')\"\n",
              "            title=\"Suggest charts.\"\n",
              "            style=\"display:none;\">\n",
              "\n",
              "<svg xmlns=\"http://www.w3.org/2000/svg\" height=\"24px\"viewBox=\"0 0 24 24\"\n",
              "     width=\"24px\">\n",
              "    <g>\n",
              "        <path d=\"M19 3H5c-1.1 0-2 .9-2 2v14c0 1.1.9 2 2 2h14c1.1 0 2-.9 2-2V5c0-1.1-.9-2-2-2zM9 17H7v-7h2v7zm4 0h-2V7h2v10zm4 0h-2v-4h2v4z\"/>\n",
              "    </g>\n",
              "</svg>\n",
              "  </button>\n",
              "\n",
              "<style>\n",
              "  .colab-df-quickchart {\n",
              "      --bg-color: #E8F0FE;\n",
              "      --fill-color: #1967D2;\n",
              "      --hover-bg-color: #E2EBFA;\n",
              "      --hover-fill-color: #174EA6;\n",
              "      --disabled-fill-color: #AAA;\n",
              "      --disabled-bg-color: #DDD;\n",
              "  }\n",
              "\n",
              "  [theme=dark] .colab-df-quickchart {\n",
              "      --bg-color: #3B4455;\n",
              "      --fill-color: #D2E3FC;\n",
              "      --hover-bg-color: #434B5C;\n",
              "      --hover-fill-color: #FFFFFF;\n",
              "      --disabled-bg-color: #3B4455;\n",
              "      --disabled-fill-color: #666;\n",
              "  }\n",
              "\n",
              "  .colab-df-quickchart {\n",
              "    background-color: var(--bg-color);\n",
              "    border: none;\n",
              "    border-radius: 50%;\n",
              "    cursor: pointer;\n",
              "    display: none;\n",
              "    fill: var(--fill-color);\n",
              "    height: 32px;\n",
              "    padding: 0;\n",
              "    width: 32px;\n",
              "  }\n",
              "\n",
              "  .colab-df-quickchart:hover {\n",
              "    background-color: var(--hover-bg-color);\n",
              "    box-shadow: 0 1px 2px rgba(60, 64, 67, 0.3), 0 1px 3px 1px rgba(60, 64, 67, 0.15);\n",
              "    fill: var(--button-hover-fill-color);\n",
              "  }\n",
              "\n",
              "  .colab-df-quickchart-complete:disabled,\n",
              "  .colab-df-quickchart-complete:disabled:hover {\n",
              "    background-color: var(--disabled-bg-color);\n",
              "    fill: var(--disabled-fill-color);\n",
              "    box-shadow: none;\n",
              "  }\n",
              "\n",
              "  .colab-df-spinner {\n",
              "    border: 2px solid var(--fill-color);\n",
              "    border-color: transparent;\n",
              "    border-bottom-color: var(--fill-color);\n",
              "    animation:\n",
              "      spin 1s steps(1) infinite;\n",
              "  }\n",
              "\n",
              "  @keyframes spin {\n",
              "    0% {\n",
              "      border-color: transparent;\n",
              "      border-bottom-color: var(--fill-color);\n",
              "      border-left-color: var(--fill-color);\n",
              "    }\n",
              "    20% {\n",
              "      border-color: transparent;\n",
              "      border-left-color: var(--fill-color);\n",
              "      border-top-color: var(--fill-color);\n",
              "    }\n",
              "    30% {\n",
              "      border-color: transparent;\n",
              "      border-left-color: var(--fill-color);\n",
              "      border-top-color: var(--fill-color);\n",
              "      border-right-color: var(--fill-color);\n",
              "    }\n",
              "    40% {\n",
              "      border-color: transparent;\n",
              "      border-right-color: var(--fill-color);\n",
              "      border-top-color: var(--fill-color);\n",
              "    }\n",
              "    60% {\n",
              "      border-color: transparent;\n",
              "      border-right-color: var(--fill-color);\n",
              "    }\n",
              "    80% {\n",
              "      border-color: transparent;\n",
              "      border-right-color: var(--fill-color);\n",
              "      border-bottom-color: var(--fill-color);\n",
              "    }\n",
              "    90% {\n",
              "      border-color: transparent;\n",
              "      border-bottom-color: var(--fill-color);\n",
              "    }\n",
              "  }\n",
              "</style>\n",
              "\n",
              "  <script>\n",
              "    async function quickchart(key) {\n",
              "      const quickchartButtonEl =\n",
              "        document.querySelector('#' + key + ' button');\n",
              "      quickchartButtonEl.disabled = true;  // To prevent multiple clicks.\n",
              "      quickchartButtonEl.classList.add('colab-df-spinner');\n",
              "      try {\n",
              "        const charts = await google.colab.kernel.invokeFunction(\n",
              "            'suggestCharts', [key], {});\n",
              "      } catch (error) {\n",
              "        console.error('Error during call to suggestCharts:', error);\n",
              "      }\n",
              "      quickchartButtonEl.classList.remove('colab-df-spinner');\n",
              "      quickchartButtonEl.classList.add('colab-df-quickchart-complete');\n",
              "    }\n",
              "    (() => {\n",
              "      let quickchartButtonEl =\n",
              "        document.querySelector('#df-f56db2a7-aef8-4b2f-9003-31bc4e59c173 button');\n",
              "      quickchartButtonEl.style.display =\n",
              "        google.colab.kernel.accessAllowed ? 'block' : 'none';\n",
              "    })();\n",
              "  </script>\n",
              "</div>\n",
              "    </div>\n",
              "  </div>\n"
            ]
          },
          "metadata": {},
          "execution_count": 35
        }
      ]
    },
    {
      "cell_type": "code",
      "source": [
        "!pip install tabulate"
      ],
      "metadata": {
        "colab": {
          "base_uri": "https://localhost:8080/"
        },
        "id": "gSIfYqrLMbZf",
        "outputId": "864cc939-101d-4ffa-dbda-67cd3d5ba1ef"
      },
      "execution_count": 36,
      "outputs": [
        {
          "output_type": "stream",
          "name": "stdout",
          "text": [
            "Requirement already satisfied: tabulate in /usr/local/lib/python3.10/dist-packages (0.9.0)\n"
          ]
        }
      ]
    },
    {
      "cell_type": "code",
      "source": [
        "import matplotlib.pyplot as plt"
      ],
      "metadata": {
        "id": "XCaK1sf9M1iz"
      },
      "execution_count": 37,
      "outputs": []
    },
    {
      "cell_type": "code",
      "source": [
        "from tabulate import tabulate\n",
        "# Usar groupby para agrupar por la columna \"Grupo\" y luego sumar la columna \"Valor\"\n",
        "result = df_train.groupby('Nombre BD')['Retweet Count'].sum().reset_index()\n",
        "# Mostrar los resultados en una tabla\n",
        "table1 = tabulate(result, headers='keys', tablefmt='pretty', showindex=False)\n",
        "\n",
        "# Imprimir la tabla\n",
        "print(table1)"
      ],
      "metadata": {
        "colab": {
          "base_uri": "https://localhost:8080/"
        },
        "id": "2HH_mLdJL4GN",
        "outputId": "fb884097-285a-45ec-8569-dbec8d2c86a9"
      },
      "execution_count": 39,
      "outputs": [
        {
          "output_type": "stream",
          "name": "stdout",
          "text": [
            "+-----------------------+---------------+\n",
            "|       Nombre BD       | Retweet Count |\n",
            "+-----------------------+---------------+\n",
            "| Cantantes_Colombianos |    1766166    |\n",
            "+-----------------------+---------------+\n"
          ]
        }
      ]
    },
    {
      "cell_type": "code",
      "source": [
        "# Tabla que muestra la frecuencia de cada sentimiento para cada valor único de nombre_bd\n",
        "tabla = pd.crosstab(df_train['Nombre BD'], df_train['label'])\n",
        "print(tabla)"
      ],
      "metadata": {
        "colab": {
          "base_uri": "https://localhost:8080/"
        },
        "id": "QEE7Jx7YL4Dj",
        "outputId": "a779b4f0-325c-4048-c96e-c69bdb12f4bd"
      },
      "execution_count": 41,
      "outputs": [
        {
          "output_type": "stream",
          "name": "stdout",
          "text": [
            "label                    0     1     2\n",
            "Nombre BD                             \n",
            "Cantantes_Colombianos  530  5142  2257\n"
          ]
        }
      ]
    },
    {
      "cell_type": "code",
      "source": [
        "# Calcular el promedio de 'Retweet Count' para cada combinación de \"Nombre BD\" y \"Sentimiento\"\n",
        "promedio_retweets_por_polaridad_y_bd = df_train.pivot_table(values='Retweet Count', index='Nombre BD', columns='label', aggfunc='mean')\n",
        "\n",
        "# Imprimir el resultado\n",
        "print(promedio_retweets_por_polaridad_y_bd)"
      ],
      "metadata": {
        "colab": {
          "base_uri": "https://localhost:8080/"
        },
        "id": "EIVhqipXL4Ah",
        "outputId": "fde26131-2020-466e-86e9-a13c5ed7e652"
      },
      "execution_count": 42,
      "outputs": [
        {
          "output_type": "stream",
          "name": "stdout",
          "text": [
            "label                           0           1           2\n",
            "Nombre BD                                                \n",
            "Cantantes_Colombianos  312.669811  237.278491  168.526805\n"
          ]
        }
      ]
    },
    {
      "cell_type": "code",
      "source": [
        "# Obtener las categorías de \"Nombre BD\" y las polaridades\n",
        "categorias = promedio_retweets_por_polaridad_y_bd.index\n",
        "polaridades = promedio_retweets_por_polaridad_y_bd.columns\n",
        "\n",
        "nombres_base_datos = {\n",
        "    'Cantantes_Colombianos': 'Cantantes',\n",
        "    'Deportistas_Colombianos': 'Deportistas',\n",
        "    'Empresas_Colombianas': 'Empresas',\n",
        "    'Famosos': 'Famosos',\n",
        "    'Futbol_Colombiano': 'Futbol',\n",
        "    'Instituciones_del_Estado_Colombiano': 'Instituciones',\n",
        "    'Medios_Informaticos': 'Medios',\n",
        "    'Periodistas': 'Periodistas',\n",
        "    'Politicos_Colombianos': 'Politicos',\n",
        "    'Universidades_Colombianas': 'Universidades',\n",
        "    # Agrega más nombres aquí si es necesario\n",
        "}\n",
        "# Configurar el ancho de las barras\n",
        "ancho_barra = 0.2\n",
        "indice = np.arange(len(categorias))\n",
        "\n",
        "# Crear un gráfico de barras agrupadas\n",
        "plt.figure(figsize=(12, 6))  # Ajustar el tamaño del gráfico\n",
        "\n",
        "for i, polaridad in enumerate(polaridades):\n",
        "    promedios = promedio_retweets_por_polaridad_y_bd[polaridad]\n",
        "    plt.bar(indice + i * ancho_barra, promedios, width=ancho_barra, label=polaridad)\n",
        "\n",
        "plt.xlabel('Nombre BD')\n",
        "plt.ylabel('Promedio de Retweets')\n",
        "plt.title('Distribución de Frecuencias de Promedio de Retweets por \"Nombre BD\" y Polaridad')\n",
        "plt.legend()\n",
        "# Reemplazar los nombres de bases de datos en el eje x utilizando el diccionario\n",
        "nombres_reemplazados = [nombres_base_datos.get(cat, cat) for cat in categorias]\n",
        "plt.xticks(indice + (len(polaridades) - 1) * ancho_barra / 2, nombres_reemplazados, rotation=45)\n",
        "plt.tight_layout()\n",
        "plt.show()"
      ],
      "metadata": {
        "colab": {
          "base_uri": "https://localhost:8080/",
          "height": 607
        },
        "id": "ZQEZnsfuL3-0",
        "outputId": "1b99e2b9-e295-47ce-d339-f34232eeef1f"
      },
      "execution_count": 43,
      "outputs": [
        {
          "output_type": "display_data",
          "data": {
            "text/plain": [
              "<Figure size 1200x600 with 1 Axes>"
            ],
            "image/png": "[encoded data removed]"
          },
          "metadata": {}
        }
      ]
    },
    {
      "cell_type": "code",
      "source": [
        "# Calcular el promedio de 'Followers_count' para cada combinación de \"Nombre BD\" y \"Sentimiento\"\n",
        "promedio_followers_count_por_polaridad_y_bd = df_train.pivot_table(values='Followers_count', index='Nombre BD', columns='label', aggfunc='mean')\n",
        "\n",
        "# Imprimir el resultado\n",
        "print(promedio_followers_count_por_polaridad_y_bd)"
      ],
      "metadata": {
        "colab": {
          "base_uri": "https://localhost:8080/"
        },
        "id": "eK990DDpL3-Q",
        "outputId": "4d4501fa-2040-4078-a521-593ff1969b40"
      },
      "execution_count": 44,
      "outputs": [
        {
          "output_type": "stream",
          "name": "stdout",
          "text": [
            "label                             0             1             2\n",
            "Nombre BD                                                      \n",
            "Cantantes_Colombianos  3.463708e+06  3.777727e+06  3.103921e+06\n"
          ]
        }
      ]
    },
    {
      "cell_type": "code",
      "source": [
        "# Obtener las categorías de \"Nombre BD\" y las polaridades\n",
        "categorias = promedio_followers_count_por_polaridad_y_bd.index\n",
        "polaridades = promedio_followers_count_por_polaridad_y_bd.columns\n",
        "\n",
        "nombres_base_datos = {\n",
        "    'Cantantes_Colombianos': 'Cantantes',\n",
        "    'Deportistas_Colombianos': 'Deportistas',\n",
        "    'Empresas_Colombianas': 'Empresas',\n",
        "    'Famosos': 'Famosos',\n",
        "    'Futbol_Colombiano': 'Futbol',\n",
        "    'Instituciones_del_Estado_Colombiano': 'Instituciones',\n",
        "    'Medios_Informaticos': 'Medios',\n",
        "    'Periodistas': 'Periodistas',\n",
        "    'Politicos_Colombianos': 'Politicos',\n",
        "    'Universidades_Colombianas': 'Universidades',\n",
        "    # Agrega más nombres aquí si es necesario\n",
        "}\n",
        "# Configurar el ancho de las barras\n",
        "ancho_barra = 0.2\n",
        "indice = np.arange(len(categorias))\n",
        "\n",
        "# Crear un gráfico de barras agrupadas\n",
        "plt.figure(figsize=(12, 6))  # Ajustar el tamaño del gráfico\n",
        "\n",
        "for i, polaridad in enumerate(polaridades):\n",
        "    promedios = promedio_followers_count_por_polaridad_y_bd[polaridad]\n",
        "    plt.bar(indice + i * ancho_barra, promedios, width=ancho_barra, label=polaridad)\n",
        "\n",
        "plt.xlabel('Nombre BD')\n",
        "plt.ylabel('Promedio de Retweets')\n",
        "plt.title('Distribución de Frecuencias de Promedio de Followers por \"Nombre BD\" y Polaridad')\n",
        "plt.legend()\n",
        "# Reemplazar los nombres de bases de datos en el eje x utilizando el diccionario\n",
        "nombres_reemplazados = [nombres_base_datos.get(cat, cat) for cat in categorias]\n",
        "plt.xticks(indice + (len(polaridades) - 1) * ancho_barra / 2, nombres_reemplazados, rotation=45)\n",
        "plt.tight_layout()\n",
        "plt.show()"
      ],
      "metadata": {
        "colab": {
          "base_uri": "https://localhost:8080/",
          "height": 607
        },
        "id": "amCEe3MBL3yg",
        "outputId": "2322d8f7-91e4-4325-9579-b31b3c9a4ef1"
      },
      "execution_count": 45,
      "outputs": [
        {
          "output_type": "display_data",
          "data": {
            "text/plain": [
              "<Figure size 1200x600 with 1 Axes>"
            ],
            "image/png": "[encoded data removed]"
          },
          "metadata": {}
        }
      ]
    },
    {
      "cell_type": "code",
      "source": [
        "# Gráfico de barras agrupadas para visualizar la distribución\n",
        "nombres_base_datos = {\n",
        "    'Cantantes_Colombianos': 'Cantantes',\n",
        "    'Deportistas_Colombianos': 'Deportistas',\n",
        "    'Empresas_Colombianas': 'Empresas',\n",
        "    'Famosos': 'Famosos',\n",
        "    'Futbol_Colombiano': 'Futbol',\n",
        "    'Instituciones_del_Estado_Colombiano': 'Instituciones',\n",
        "    'Medios_Informaticos': 'Medios',\n",
        "    'Periodistas': 'Periodistas',\n",
        "    'Politicos_Colombianos': 'Politicos',\n",
        "    'Universidades_Colombianas': 'Universidades',\n",
        "    # Agrega más nombres aquí si es necesario\n",
        "}\n",
        "\n",
        "# Crea el gráfico de barras agrupadas\n",
        "ax = tabla.plot(kind='bar', figsize=(12, 7))\n",
        "\n",
        "# Obtiene las etiquetas actuales en el eje x\n",
        "etiquetas_actuales = [tick.get_text() for tick in ax.get_xticklabels()]\n",
        "\n",
        "# Crea una lista de etiquetas renombradas usando el diccionario\n",
        "etiquetas_renombradas = [nombres_base_datos.get(etiqueta, etiqueta) for etiqueta in etiquetas_actuales]\n",
        "\n",
        "# Establece las etiquetas renombradas en el eje x\n",
        "ax.set_xticklabels(etiquetas_renombradas)\n",
        "\n",
        "# Personaliza otros aspectos del gráfico\n",
        "plt.title('Distribución de Sentimientos por Base de Datos')\n",
        "plt.xlabel('Nombre de la Base de Datos')\n",
        "plt.ylabel('Frecuencia del Sentimiento')\n",
        "plt.legend(title='Sentimiento', loc='upper right')\n",
        "plt.show()"
      ],
      "metadata": {
        "colab": {
          "base_uri": "https://localhost:8080/",
          "height": 699
        },
        "id": "Cjh7ljxvL3mp",
        "outputId": "1d5b536b-51ba-4ea0-f224-23c3b0e4921c"
      },
      "execution_count": 46,
      "outputs": [
        {
          "output_type": "display_data",
          "data": {
            "text/plain": [
              "<Figure size 1200x700 with 1 Axes>"
            ],
            "image/png": "[encoded data removed]"
          },
          "metadata": {}
        }
      ]
    },
    {
      "cell_type": "code",
      "source": [],
      "metadata": {
        "id": "TBwCr-2JMv6_"
      },
      "execution_count": null,
      "outputs": []
    }
  ]
}